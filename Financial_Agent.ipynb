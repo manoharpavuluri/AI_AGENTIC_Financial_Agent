{
  "nbformat": 4,
  "nbformat_minor": 0,
  "metadata": {
    "colab": {
      "provenance": [],
      "authorship_tag": "ABX9TyP6c8COTf6/NooInxq6mkIN",
      "include_colab_link": true
    },
    "kernelspec": {
      "name": "python3",
      "display_name": "Python 3"
    },
    "language_info": {
      "name": "python"
    },
    "widgets": {
      "application/vnd.jupyter.widget-state+json": {
        "83312b79ae7a4720ad845dae96e05a9e": {
          "model_module": "@jupyter-widgets/output",
          "model_name": "OutputModel",
          "model_module_version": "1.0.0",
          "state": {
            "_dom_classes": [],
            "_model_module": "@jupyter-widgets/output",
            "_model_module_version": "1.0.0",
            "_model_name": "OutputModel",
            "_view_count": null,
            "_view_module": "@jupyter-widgets/output",
            "_view_module_version": "1.0.0",
            "_view_name": "OutputView",
            "layout": "IPY_MODEL_7b423d1aff2b4dfcad9f0f28cdd2c414",
            "msg_id": "",
            "outputs": [
              {
                "output_type": "display_data",
                "data": {
                  "text/plain": "\u001b[32m▰▱▱▱▱▱▱\u001b[0m Thinking...\n\u001b[36m┏━\u001b[0m\u001b[36m Message \u001b[0m\u001b[36m━━━━━━━━━━━━━━━━━━━━━━━━━━━━━━━━━━━━━━━━━━━━━━━━━━━━━━━━━━━━━━━━━━━━━━━━━━━━━━━━━━━━━━━━━━━━━━━━━━━━━━\u001b[0m\u001b[36m━┓\u001b[0m\n\u001b[36m┃\u001b[0m                                                                                                                 \u001b[36m┃\u001b[0m\n\u001b[36m┃\u001b[0m \u001b[32mSummarize analyst recommendation and share the lastest news NVDA\u001b[0m                                                \u001b[36m┃\u001b[0m\n\u001b[36m┃\u001b[0m                                                                                                                 \u001b[36m┃\u001b[0m\n\u001b[36m┗━━━━━━━━━━━━━━━━━━━━━━━━━━━━━━━━━━━━━━━━━━━━━━━━━━━━━━━━━━━━━━━━━━━━━━━━━━━━━━━━━━━━━━━━━━━━━━━━━━━━━━━━━━━━━━━━━┛\u001b[0m\n\u001b[34m┏━\u001b[0m\u001b[34m Response (17.5s) \u001b[0m\u001b[34m━━━━━━━━━━━━━━━━━━━━━━━━━━━━━━━━━━━━━━━━━━━━━━━━━━━━━━━━━━━━━━━━━━━━━━━━━━━━━━━━━━━━━━━━━━━━━\u001b[0m\u001b[34m━┓\u001b[0m\n\u001b[34m┃\u001b[0m                                                                                                                 \u001b[34m┃\u001b[0m\n\u001b[34m┃\u001b[0m Running:                                                                                                        \u001b[34m┃\u001b[0m\n\u001b[34m┃\u001b[0m                                                                                                                 \u001b[34m┃\u001b[0m\n\u001b[34m┃\u001b[0m \u001b[1;33m • \u001b[0mtransfer_task_to_finance_ai_agent(task_description=Get the latest analyst recommendations for NVIDIA         \u001b[34m┃\u001b[0m\n\u001b[34m┃\u001b[0m \u001b[1;33m   \u001b[0mCorporation (NVDA)., expected_output=A summary of the latest analyst recommendations for NVDA, including     \u001b[34m┃\u001b[0m\n\u001b[34m┃\u001b[0m \u001b[1;33m   \u001b[0mbuy, hold, or sell ratings., additional_information=Please include the date of the latest recommendations if \u001b[34m┃\u001b[0m\n\u001b[34m┃\u001b[0m \u001b[1;33m   \u001b[0mavailable.)                                                                                                  \u001b[34m┃\u001b[0m\n\u001b[34m┃\u001b[0m \u001b[1;33m • \u001b[0mtransfer_task_to_web_search_agent(task_description=Find the latest news articles about NVIDIA Corporation    \u001b[34m┃\u001b[0m\n\u001b[34m┃\u001b[0m \u001b[1;33m   \u001b[0m(NVDA)., expected_output=A summary of the latest news articles related to NVIDIA Corporation (NVDA).,        \u001b[34m┃\u001b[0m\n\u001b[34m┃\u001b[0m \u001b[1;33m   \u001b[0madditional_information=Focus on news from reliable sources within the past week.)                            \u001b[34m┃\u001b[0m\n\u001b[34m┃\u001b[0m                                                                                                                 \u001b[34m┃\u001b[0m\n\u001b[34m┃\u001b[0m                          \u001b[1mLatest Analyst Recommendations for NVIDIA Corporation (NVDA)\u001b[0m                           \u001b[34m┃\u001b[0m\n\u001b[34m┃\u001b[0m                                                                                                                 \u001b[34m┃\u001b[0m\n\u001b[34m┃\u001b[0m The latest analyst recommendations for NVIDIA Corporation (NVDA) are summarized in the table below:             \u001b[34m┃\u001b[0m\n\u001b[34m┃\u001b[0m                                                                                                                 \u001b[34m┃\u001b[0m\n\u001b[34m┃\u001b[0m                                                                                                                 \u001b[34m┃\u001b[0m\n\u001b[34m┃\u001b[0m  \u001b[1m \u001b[0m\u001b[1mPeriod\u001b[0m\u001b[1m                \u001b[0m\u001b[1m \u001b[0m \u001b[1m \u001b[0m\u001b[1mStrong Buy\u001b[0m\u001b[1m \u001b[0m \u001b[1m \u001b[0m\u001b[1mBuy\u001b[0m\u001b[1m \u001b[0m \u001b[1m \u001b[0m\u001b[1mHold\u001b[0m\u001b[1m \u001b[0m \u001b[1m \u001b[0m\u001b[1mSell\u001b[0m\u001b[1m \u001b[0m \u001b[1m \u001b[0m\u001b[1mStrong Sell\u001b[0m\u001b[1m \u001b[0m                                        \u001b[34m┃\u001b[0m\n\u001b[34m┃\u001b[0m  ━━━━━━━━━━━━━━━━━━━━━━━━━━━━━━━━━━━━━━━━━━━━━━━━━━━━━━━━━━━━━━━━━━━━━━━                                        \u001b[34m┃\u001b[0m\n\u001b[34m┃\u001b[0m   Current Month (0m)       11           47    5      0      0                                                   \u001b[34m┃\u001b[0m\n\u001b[34m┃\u001b[0m   Last Month (-1m)         11           47    5      0      0                                                   \u001b[34m┃\u001b[0m\n\u001b[34m┃\u001b[0m   Two Months Ago (-2m)     12           48    4      0      0                                                   \u001b[34m┃\u001b[0m\n\u001b[34m┃\u001b[0m   Three Months Ago (-3m)   12           48    4      0      0                                                   \u001b[34m┃\u001b[0m\n\u001b[34m┃\u001b[0m                                                                                                                 \u001b[34m┃\u001b[0m\n\u001b[34m┃\u001b[0m                                                                                                                 \u001b[34m┃\u001b[0m\n\u001b[34m┃\u001b[0m This indicates a strong consensus towards buying NVDA, with no sell or strong sell recommendations.             \u001b[34m┃\u001b[0m\n\u001b[34m┃\u001b[0m                                                                                                                 \u001b[34m┃\u001b[0m\n\u001b[34m┃\u001b[0m                                    \u001b[1mLatest News on NVIDIA Corporation (NVDA)\u001b[0m                                     \u001b[34m┃\u001b[0m\n\u001b[34m┃\u001b[0m                                                                                                                 \u001b[34m┃\u001b[0m\n\u001b[34m┃\u001b[0m Here are some of the recent news articles related to NVIDIA Corporation (NVDA):                                 \u001b[34m┃\u001b[0m\n\u001b[34m┃\u001b[0m                                                                                                                 \u001b[34m┃\u001b[0m\n\u001b[34m┃\u001b[0m \u001b[1;33m 1 \u001b[0m\u001b[1mJim Cramer's Analysis:\u001b[0m Jim Cramer refers to NVIDIA as the 'odd man' out of the 'magnificent seven,'          \u001b[34m┃\u001b[0m\n\u001b[34m┃\u001b[0m \u001b[1;33m   \u001b[0mhighlighting the company's robust growth in the data center sector. \u001b]8;id=255308;https://www.insidermonkey.com/blog/jim-cramer-calls-nvidia-the-odd-man-out-among-the-magnificent-seven-1197608/\u001b\\\u001b[4;34mSource: Insider Monkey\u001b[0m\u001b]8;;\u001b\\                   \u001b[34m┃\u001b[0m\n\u001b[34m┃\u001b[0m \u001b[1;33m 2 \u001b[0m\u001b[1mOutperform Rating:\u001b[0m NVIDIA Corporation (NVDA) has been reaffirmed as 'outperform' due to its strong data      \u001b[34m┃\u001b[0m\n\u001b[34m┃\u001b[0m \u001b[1;33m   \u001b[0mcenter growth. \u001b]8;id=853164;https://www.insidermonkey.com/blog/nvidia-remains-outperform-due-to-strong-data-center-growth-1197610/\u001b\\\u001b[4;34mSource: Insider Monkey\u001b[0m\u001b]8;;\u001b\\                                                                        \u001b[34m┃\u001b[0m\n\u001b[34m┃\u001b[0m \u001b[1;33m 3 \u001b[0m\u001b[1mStock Surge:\u001b[0m NVIDIA (NVDA) experienced a surge due to strong results and improved guidance, with insights    \u001b[34m┃\u001b[0m\n\u001b[34m┃\u001b[0m \u001b[1;33m   \u001b[0mfrom RiverPark Advisors' investor letter. \u001b]8;id=232404;https://www.insidermonkey.com/blog/nvidia-surges-on-strong-results-and-guidance-1197615/\u001b\\\u001b[4;34mSource: Insider Monkey\u001b[0m\u001b]8;;\u001b\\                                             \u001b[34m┃\u001b[0m\n\u001b[34m┃\u001b[0m \u001b[1;33m 4 \u001b[0m\u001b[1mValuation Discussion:\u001b[0m Analysts are discussing whether NVIDIA is undervalued or if further downturns are      \u001b[34m┃\u001b[0m\n\u001b[34m┃\u001b[0m \u001b[1;33m   \u001b[0mpossible after the company falls below a $3 trillion market cap. \u001b]8;id=481206;https://seekingalpha.com/article/4616826-nvidia-stock-undervalued-further-downside-ahead\u001b\\\u001b[4;34mSource: Seeking Alpha\u001b[0m\u001b]8;;\u001b\\                       \u001b[34m┃\u001b[0m\n\u001b[34m┃\u001b[0m \u001b[1;33m 5 \u001b[0m\u001b[1mAI Chip Supply:\u001b[0m NVIDIA is supplying 64,000 AI chips for OpenAI-Oracle's Texas data center, emphasizing its   \u001b[34m┃\u001b[0m\n\u001b[34m┃\u001b[0m \u001b[1;33m   \u001b[0mgrowing presence in the AI industry. \u001b]8;id=945398;https://www.insidermonkey.com/blog/nvidia-supplies-64000-ai-chips-to-open-ai-oracle-1197620/\u001b\\\u001b[4;34mSource: Insider Monkey\u001b[0m\u001b]8;;\u001b\\                                                  \u001b[34m┃\u001b[0m\n\u001b[34m┃\u001b[0m                                                                                                                 \u001b[34m┃\u001b[0m\n\u001b[34m┃\u001b[0m These articles highlight NVIDIA's strong position and performance                                               \u001b[34m┃\u001b[0m\n\u001b[34m┃\u001b[0m                                                                                                                 \u001b[34m┃\u001b[0m\n\u001b[34m┗━━━━━━━━━━━━━━━━━━━━━━━━━━━━━━━━━━━━━━━━━━━━━━━━━━━━━━━━━━━━━━━━━━━━━━━━━━━━━━━━━━━━━━━━━━━━━━━━━━━━━━━━━━━━━━━━━┛\u001b[0m\n",
                  "text/html": "<pre style=\"white-space:pre;overflow-x:auto;line-height:normal;font-family:Menlo,'DejaVu Sans Mono',consolas,'Courier New',monospace\"><span style=\"color: #008000; text-decoration-color: #008000\">▰▱▱▱▱▱▱</span> Thinking...\n<span style=\"color: #008080; text-decoration-color: #008080\">┏━ Message ━━━━━━━━━━━━━━━━━━━━━━━━━━━━━━━━━━━━━━━━━━━━━━━━━━━━━━━━━━━━━━━━━━━━━━━━━━━━━━━━━━━━━━━━━━━━━━━━━━━━━━━┓</span>\n<span style=\"color: #008080; text-decoration-color: #008080\">┃</span>                                                                                                                 <span style=\"color: #008080; text-decoration-color: #008080\">┃</span>\n<span style=\"color: #008080; text-decoration-color: #008080\">┃</span> <span style=\"color: #008000; text-decoration-color: #008000\">Summarize analyst recommendation and share the lastest news NVDA</span>                                                <span style=\"color: #008080; text-decoration-color: #008080\">┃</span>\n<span style=\"color: #008080; text-decoration-color: #008080\">┃</span>                                                                                                                 <span style=\"color: #008080; text-decoration-color: #008080\">┃</span>\n<span style=\"color: #008080; text-decoration-color: #008080\">┗━━━━━━━━━━━━━━━━━━━━━━━━━━━━━━━━━━━━━━━━━━━━━━━━━━━━━━━━━━━━━━━━━━━━━━━━━━━━━━━━━━━━━━━━━━━━━━━━━━━━━━━━━━━━━━━━━┛</span>\n<span style=\"color: #000080; text-decoration-color: #000080\">┏━ Response (17.5s) ━━━━━━━━━━━━━━━━━━━━━━━━━━━━━━━━━━━━━━━━━━━━━━━━━━━━━━━━━━━━━━━━━━━━━━━━━━━━━━━━━━━━━━━━━━━━━━┓</span>\n<span style=\"color: #000080; text-decoration-color: #000080\">┃</span>                                                                                                                 <span style=\"color: #000080; text-decoration-color: #000080\">┃</span>\n<span style=\"color: #000080; text-decoration-color: #000080\">┃</span> Running:                                                                                                        <span style=\"color: #000080; text-decoration-color: #000080\">┃</span>\n<span style=\"color: #000080; text-decoration-color: #000080\">┃</span>                                                                                                                 <span style=\"color: #000080; text-decoration-color: #000080\">┃</span>\n<span style=\"color: #000080; text-decoration-color: #000080\">┃</span> <span style=\"color: #808000; text-decoration-color: #808000; font-weight: bold\"> • </span>transfer_task_to_finance_ai_agent(task_description=Get the latest analyst recommendations for NVIDIA         <span style=\"color: #000080; text-decoration-color: #000080\">┃</span>\n<span style=\"color: #000080; text-decoration-color: #000080\">┃</span> <span style=\"color: #808000; text-decoration-color: #808000; font-weight: bold\">   </span>Corporation (NVDA)., expected_output=A summary of the latest analyst recommendations for NVDA, including     <span style=\"color: #000080; text-decoration-color: #000080\">┃</span>\n<span style=\"color: #000080; text-decoration-color: #000080\">┃</span> <span style=\"color: #808000; text-decoration-color: #808000; font-weight: bold\">   </span>buy, hold, or sell ratings., additional_information=Please include the date of the latest recommendations if <span style=\"color: #000080; text-decoration-color: #000080\">┃</span>\n<span style=\"color: #000080; text-decoration-color: #000080\">┃</span> <span style=\"color: #808000; text-decoration-color: #808000; font-weight: bold\">   </span>available.)                                                                                                  <span style=\"color: #000080; text-decoration-color: #000080\">┃</span>\n<span style=\"color: #000080; text-decoration-color: #000080\">┃</span> <span style=\"color: #808000; text-decoration-color: #808000; font-weight: bold\"> • </span>transfer_task_to_web_search_agent(task_description=Find the latest news articles about NVIDIA Corporation    <span style=\"color: #000080; text-decoration-color: #000080\">┃</span>\n<span style=\"color: #000080; text-decoration-color: #000080\">┃</span> <span style=\"color: #808000; text-decoration-color: #808000; font-weight: bold\">   </span>(NVDA)., expected_output=A summary of the latest news articles related to NVIDIA Corporation (NVDA).,        <span style=\"color: #000080; text-decoration-color: #000080\">┃</span>\n<span style=\"color: #000080; text-decoration-color: #000080\">┃</span> <span style=\"color: #808000; text-decoration-color: #808000; font-weight: bold\">   </span>additional_information=Focus on news from reliable sources within the past week.)                            <span style=\"color: #000080; text-decoration-color: #000080\">┃</span>\n<span style=\"color: #000080; text-decoration-color: #000080\">┃</span>                                                                                                                 <span style=\"color: #000080; text-decoration-color: #000080\">┃</span>\n<span style=\"color: #000080; text-decoration-color: #000080\">┃</span>                          <span style=\"font-weight: bold\">Latest Analyst Recommendations for NVIDIA Corporation (NVDA)</span>                           <span style=\"color: #000080; text-decoration-color: #000080\">┃</span>\n<span style=\"color: #000080; text-decoration-color: #000080\">┃</span>                                                                                                                 <span style=\"color: #000080; text-decoration-color: #000080\">┃</span>\n<span style=\"color: #000080; text-decoration-color: #000080\">┃</span> The latest analyst recommendations for NVIDIA Corporation (NVDA) are summarized in the table below:             <span style=\"color: #000080; text-decoration-color: #000080\">┃</span>\n<span style=\"color: #000080; text-decoration-color: #000080\">┃</span>                                                                                                                 <span style=\"color: #000080; text-decoration-color: #000080\">┃</span>\n<span style=\"color: #000080; text-decoration-color: #000080\">┃</span>                                                                                                                 <span style=\"color: #000080; text-decoration-color: #000080\">┃</span>\n<span style=\"color: #000080; text-decoration-color: #000080\">┃</span>  <span style=\"font-weight: bold\"> Period                 </span> <span style=\"font-weight: bold\"> Strong Buy </span> <span style=\"font-weight: bold\"> Buy </span> <span style=\"font-weight: bold\"> Hold </span> <span style=\"font-weight: bold\"> Sell </span> <span style=\"font-weight: bold\"> Strong Sell </span>                                        <span style=\"color: #000080; text-decoration-color: #000080\">┃</span>\n<span style=\"color: #000080; text-decoration-color: #000080\">┃</span>  ━━━━━━━━━━━━━━━━━━━━━━━━━━━━━━━━━━━━━━━━━━━━━━━━━━━━━━━━━━━━━━━━━━━━━━━                                        <span style=\"color: #000080; text-decoration-color: #000080\">┃</span>\n<span style=\"color: #000080; text-decoration-color: #000080\">┃</span>   Current Month (0m)       11           47    5      0      0                                                   <span style=\"color: #000080; text-decoration-color: #000080\">┃</span>\n<span style=\"color: #000080; text-decoration-color: #000080\">┃</span>   Last Month (-1m)         11           47    5      0      0                                                   <span style=\"color: #000080; text-decoration-color: #000080\">┃</span>\n<span style=\"color: #000080; text-decoration-color: #000080\">┃</span>   Two Months Ago (-2m)     12           48    4      0      0                                                   <span style=\"color: #000080; text-decoration-color: #000080\">┃</span>\n<span style=\"color: #000080; text-decoration-color: #000080\">┃</span>   Three Months Ago (-3m)   12           48    4      0      0                                                   <span style=\"color: #000080; text-decoration-color: #000080\">┃</span>\n<span style=\"color: #000080; text-decoration-color: #000080\">┃</span>                                                                                                                 <span style=\"color: #000080; text-decoration-color: #000080\">┃</span>\n<span style=\"color: #000080; text-decoration-color: #000080\">┃</span>                                                                                                                 <span style=\"color: #000080; text-decoration-color: #000080\">┃</span>\n<span style=\"color: #000080; text-decoration-color: #000080\">┃</span> This indicates a strong consensus towards buying NVDA, with no sell or strong sell recommendations.             <span style=\"color: #000080; text-decoration-color: #000080\">┃</span>\n<span style=\"color: #000080; text-decoration-color: #000080\">┃</span>                                                                                                                 <span style=\"color: #000080; text-decoration-color: #000080\">┃</span>\n<span style=\"color: #000080; text-decoration-color: #000080\">┃</span>                                    <span style=\"font-weight: bold\">Latest News on NVIDIA Corporation (NVDA)</span>                                     <span style=\"color: #000080; text-decoration-color: #000080\">┃</span>\n<span style=\"color: #000080; text-decoration-color: #000080\">┃</span>                                                                                                                 <span style=\"color: #000080; text-decoration-color: #000080\">┃</span>\n<span style=\"color: #000080; text-decoration-color: #000080\">┃</span> Here are some of the recent news articles related to NVIDIA Corporation (NVDA):                                 <span style=\"color: #000080; text-decoration-color: #000080\">┃</span>\n<span style=\"color: #000080; text-decoration-color: #000080\">┃</span>                                                                                                                 <span style=\"color: #000080; text-decoration-color: #000080\">┃</span>\n<span style=\"color: #000080; text-decoration-color: #000080\">┃</span> <span style=\"color: #808000; text-decoration-color: #808000; font-weight: bold\"> 1 </span><span style=\"font-weight: bold\">Jim Cramer's Analysis:</span> Jim Cramer refers to NVIDIA as the 'odd man' out of the 'magnificent seven,'          <span style=\"color: #000080; text-decoration-color: #000080\">┃</span>\n<span style=\"color: #000080; text-decoration-color: #000080\">┃</span> <span style=\"color: #808000; text-decoration-color: #808000; font-weight: bold\">   </span>highlighting the company's robust growth in the data center sector. <a href=\"https://www.insidermonkey.com/blog/jim-cramer-calls-nvidia-the-odd-man-out-among-the-magnificent-seven-1197608/\" target=\"_blank\"><span style=\"color: #000080; text-decoration-color: #000080; text-decoration: underline\">Source: Insider Monkey</span></a>                   <span style=\"color: #000080; text-decoration-color: #000080\">┃</span>\n<span style=\"color: #000080; text-decoration-color: #000080\">┃</span> <span style=\"color: #808000; text-decoration-color: #808000; font-weight: bold\"> 2 </span><span style=\"font-weight: bold\">Outperform Rating:</span> NVIDIA Corporation (NVDA) has been reaffirmed as 'outperform' due to its strong data      <span style=\"color: #000080; text-decoration-color: #000080\">┃</span>\n<span style=\"color: #000080; text-decoration-color: #000080\">┃</span> <span style=\"color: #808000; text-decoration-color: #808000; font-weight: bold\">   </span>center growth. <a href=\"https://www.insidermonkey.com/blog/nvidia-remains-outperform-due-to-strong-data-center-growth-1197610/\" target=\"_blank\"><span style=\"color: #000080; text-decoration-color: #000080; text-decoration: underline\">Source: Insider Monkey</span></a>                                                                        <span style=\"color: #000080; text-decoration-color: #000080\">┃</span>\n<span style=\"color: #000080; text-decoration-color: #000080\">┃</span> <span style=\"color: #808000; text-decoration-color: #808000; font-weight: bold\"> 3 </span><span style=\"font-weight: bold\">Stock Surge:</span> NVIDIA (NVDA) experienced a surge due to strong results and improved guidance, with insights    <span style=\"color: #000080; text-decoration-color: #000080\">┃</span>\n<span style=\"color: #000080; text-decoration-color: #000080\">┃</span> <span style=\"color: #808000; text-decoration-color: #808000; font-weight: bold\">   </span>from RiverPark Advisors' investor letter. <a href=\"https://www.insidermonkey.com/blog/nvidia-surges-on-strong-results-and-guidance-1197615/\" target=\"_blank\"><span style=\"color: #000080; text-decoration-color: #000080; text-decoration: underline\">Source: Insider Monkey</span></a>                                             <span style=\"color: #000080; text-decoration-color: #000080\">┃</span>\n<span style=\"color: #000080; text-decoration-color: #000080\">┃</span> <span style=\"color: #808000; text-decoration-color: #808000; font-weight: bold\"> 4 </span><span style=\"font-weight: bold\">Valuation Discussion:</span> Analysts are discussing whether NVIDIA is undervalued or if further downturns are      <span style=\"color: #000080; text-decoration-color: #000080\">┃</span>\n<span style=\"color: #000080; text-decoration-color: #000080\">┃</span> <span style=\"color: #808000; text-decoration-color: #808000; font-weight: bold\">   </span>possible after the company falls below a $3 trillion market cap. <a href=\"https://seekingalpha.com/article/4616826-nvidia-stock-undervalued-further-downside-ahead\" target=\"_blank\"><span style=\"color: #000080; text-decoration-color: #000080; text-decoration: underline\">Source: Seeking Alpha</span></a>                       <span style=\"color: #000080; text-decoration-color: #000080\">┃</span>\n<span style=\"color: #000080; text-decoration-color: #000080\">┃</span> <span style=\"color: #808000; text-decoration-color: #808000; font-weight: bold\"> 5 </span><span style=\"font-weight: bold\">AI Chip Supply:</span> NVIDIA is supplying 64,000 AI chips for OpenAI-Oracle's Texas data center, emphasizing its   <span style=\"color: #000080; text-decoration-color: #000080\">┃</span>\n<span style=\"color: #000080; text-decoration-color: #000080\">┃</span> <span style=\"color: #808000; text-decoration-color: #808000; font-weight: bold\">   </span>growing presence in the AI industry. <a href=\"https://www.insidermonkey.com/blog/nvidia-supplies-64000-ai-chips-to-open-ai-oracle-1197620/\" target=\"_blank\"><span style=\"color: #000080; text-decoration-color: #000080; text-decoration: underline\">Source: Insider Monkey</span></a>                                                  <span style=\"color: #000080; text-decoration-color: #000080\">┃</span>\n<span style=\"color: #000080; text-decoration-color: #000080\">┃</span>                                                                                                                 <span style=\"color: #000080; text-decoration-color: #000080\">┃</span>\n<span style=\"color: #000080; text-decoration-color: #000080\">┃</span> These articles highlight NVIDIA's strong position and performance                                               <span style=\"color: #000080; text-decoration-color: #000080\">┃</span>\n<span style=\"color: #000080; text-decoration-color: #000080\">┃</span>                                                                                                                 <span style=\"color: #000080; text-decoration-color: #000080\">┃</span>\n<span style=\"color: #000080; text-decoration-color: #000080\">┗━━━━━━━━━━━━━━━━━━━━━━━━━━━━━━━━━━━━━━━━━━━━━━━━━━━━━━━━━━━━━━━━━━━━━━━━━━━━━━━━━━━━━━━━━━━━━━━━━━━━━━━━━━━━━━━━━┛</span>\n</pre>\n"
                },
                "metadata": {}
              }
            ]
          }
        },
        "7b423d1aff2b4dfcad9f0f28cdd2c414": {
          "model_module": "@jupyter-widgets/base",
          "model_name": "LayoutModel",
          "model_module_version": "1.2.0",
          "state": {
            "_model_module": "@jupyter-widgets/base",
            "_model_module_version": "1.2.0",
            "_model_name": "LayoutModel",
            "_view_count": null,
            "_view_module": "@jupyter-widgets/base",
            "_view_module_version": "1.2.0",
            "_view_name": "LayoutView",
            "align_content": null,
            "align_items": null,
            "align_self": null,
            "border": null,
            "bottom": null,
            "display": null,
            "flex": null,
            "flex_flow": null,
            "grid_area": null,
            "grid_auto_columns": null,
            "grid_auto_flow": null,
            "grid_auto_rows": null,
            "grid_column": null,
            "grid_gap": null,
            "grid_row": null,
            "grid_template_areas": null,
            "grid_template_columns": null,
            "grid_template_rows": null,
            "height": null,
            "justify_content": null,
            "justify_items": null,
            "left": null,
            "margin": null,
            "max_height": null,
            "max_width": null,
            "min_height": null,
            "min_width": null,
            "object_fit": null,
            "object_position": null,
            "order": null,
            "overflow": null,
            "overflow_x": null,
            "overflow_y": null,
            "padding": null,
            "right": null,
            "top": null,
            "visibility": null,
            "width": null
          }
        }
      }
    }
  },
  "cells": [
    {
      "cell_type": "markdown",
      "metadata": {
        "id": "view-in-github",
        "colab_type": "text"
      },
      "source": [
        "<a href=\"https://colab.research.google.com/github/manoharpavuluri/AI_AGENTIC_Financial_Agent/blob/main/Financial_Agent.ipynb\" target=\"_parent\"><img src=\"https://colab.research.google.com/assets/colab-badge.svg\" alt=\"Open In Colab\"/></a>"
      ]
    },
    {
      "cell_type": "code",
      "source": [
        "!pip install -r https://raw.githubusercontent.com/manoharpavuluri/AI_AGENTIC_Financial_Agent/refs/heads/main/requirements.txt"
      ],
      "metadata": {
        "colab": {
          "base_uri": "https://localhost:8080/"
        },
        "id": "7HK8q1O8iIhK",
        "outputId": "2eb0b280-ff3e-4ec7-b103-d79cb624c83c"
      },
      "execution_count": 5,
      "outputs": [
        {
          "output_type": "stream",
          "name": "stdout",
          "text": [
            "\u001b[31mERROR: Invalid requirement: \"'fastapi[standard]'\": Expected package name at the start of dependency specifier\n",
            "    'fastapi[standard]'\n",
            "    ^ (from line 12 of https://raw.githubusercontent.com/manoharpavuluri/AI_AGENTIC_Financial_Agent/refs/heads/main/requirements.txt)\u001b[0m\u001b[31m\n",
            "\u001b[0m"
          ]
        }
      ]
    },
    {
      "cell_type": "code",
      "source": [
        "!pip install --upgrade agno openai google-colab"
      ],
      "metadata": {
        "colab": {
          "base_uri": "https://localhost:8080/"
        },
        "id": "OOGahEukat3H",
        "outputId": "d7c6f30d-c53c-4872-a97f-39afb66a69de"
      },
      "execution_count": 65,
      "outputs": [
        {
          "output_type": "stream",
          "name": "stdout",
          "text": [
            "Requirement already satisfied: agno in /usr/local/lib/python3.11/dist-packages (1.1.9)\n",
            "Requirement already satisfied: openai in /usr/local/lib/python3.11/dist-packages (1.61.1)\n",
            "Collecting openai\n",
            "  Downloading openai-1.65.5-py3-none-any.whl.metadata (27 kB)\n",
            "Requirement already satisfied: google-colab in /usr/local/lib/python3.11/dist-packages (1.0.0)\n",
            "Requirement already satisfied: docstring-parser in /usr/local/lib/python3.11/dist-packages (from agno) (0.16)\n",
            "Requirement already satisfied: gitpython in /usr/local/lib/python3.11/dist-packages (from agno) (3.1.44)\n",
            "Requirement already satisfied: httpx in /usr/local/lib/python3.11/dist-packages (from agno) (0.28.1)\n",
            "Requirement already satisfied: pydantic-settings in /usr/local/lib/python3.11/dist-packages (from agno) (2.8.1)\n",
            "Requirement already satisfied: pydantic in /usr/local/lib/python3.11/dist-packages (from agno) (2.10.6)\n",
            "Requirement already satisfied: python-dotenv in /usr/local/lib/python3.11/dist-packages (from agno) (1.0.1)\n",
            "Requirement already satisfied: python-multipart in /usr/local/lib/python3.11/dist-packages (from agno) (0.0.20)\n",
            "Requirement already satisfied: pyyaml in /usr/local/lib/python3.11/dist-packages (from agno) (6.0.2)\n",
            "Requirement already satisfied: rich in /usr/local/lib/python3.11/dist-packages (from agno) (13.9.4)\n",
            "Requirement already satisfied: tomli in /usr/local/lib/python3.11/dist-packages (from agno) (2.2.1)\n",
            "Requirement already satisfied: typer in /usr/local/lib/python3.11/dist-packages (from agno) (0.15.2)\n",
            "Requirement already satisfied: typing-extensions in /usr/local/lib/python3.11/dist-packages (from agno) (4.12.2)\n",
            "Requirement already satisfied: anyio<5,>=3.5.0 in /usr/local/lib/python3.11/dist-packages (from openai) (3.7.1)\n",
            "Requirement already satisfied: distro<2,>=1.7.0 in /usr/local/lib/python3.11/dist-packages (from openai) (1.9.0)\n",
            "Requirement already satisfied: jiter<1,>=0.4.0 in /usr/local/lib/python3.11/dist-packages (from openai) (0.8.2)\n",
            "Requirement already satisfied: sniffio in /usr/local/lib/python3.11/dist-packages (from openai) (1.3.1)\n",
            "Requirement already satisfied: tqdm>4 in /usr/local/lib/python3.11/dist-packages (from openai) (4.67.1)\n",
            "Requirement already satisfied: google-auth==2.38.0 in /usr/local/lib/python3.11/dist-packages (from google-colab) (2.38.0)\n",
            "Requirement already satisfied: ipykernel==6.17.1 in /usr/local/lib/python3.11/dist-packages (from google-colab) (6.17.1)\n",
            "Requirement already satisfied: ipyparallel==8.8.0 in /usr/local/lib/python3.11/dist-packages (from google-colab) (8.8.0)\n",
            "Requirement already satisfied: ipython==7.34.0 in /usr/local/lib/python3.11/dist-packages (from google-colab) (7.34.0)\n",
            "Requirement already satisfied: notebook==6.5.5 in /usr/local/lib/python3.11/dist-packages (from google-colab) (6.5.5)\n",
            "Requirement already satisfied: pandas==2.2.2 in /usr/local/lib/python3.11/dist-packages (from google-colab) (2.2.2)\n",
            "Requirement already satisfied: portpicker==1.5.2 in /usr/local/lib/python3.11/dist-packages (from google-colab) (1.5.2)\n",
            "Requirement already satisfied: requests==2.32.3 in /usr/local/lib/python3.11/dist-packages (from google-colab) (2.32.3)\n",
            "Requirement already satisfied: tornado==6.4.2 in /usr/local/lib/python3.11/dist-packages (from google-colab) (6.4.2)\n",
            "Requirement already satisfied: cachetools<6.0,>=2.0.0 in /usr/local/lib/python3.11/dist-packages (from google-auth==2.38.0->google-colab) (5.5.2)\n",
            "Requirement already satisfied: pyasn1-modules>=0.2.1 in /usr/local/lib/python3.11/dist-packages (from google-auth==2.38.0->google-colab) (0.4.1)\n",
            "Requirement already satisfied: rsa<5,>=3.1.4 in /usr/local/lib/python3.11/dist-packages (from google-auth==2.38.0->google-colab) (4.9)\n",
            "Requirement already satisfied: debugpy>=1.0 in /usr/local/lib/python3.11/dist-packages (from ipykernel==6.17.1->google-colab) (1.8.0)\n",
            "Requirement already satisfied: jupyter-client>=6.1.12 in /usr/local/lib/python3.11/dist-packages (from ipykernel==6.17.1->google-colab) (6.1.12)\n",
            "Requirement already satisfied: matplotlib-inline>=0.1 in /usr/local/lib/python3.11/dist-packages (from ipykernel==6.17.1->google-colab) (0.1.7)\n",
            "Requirement already satisfied: nest-asyncio in /usr/local/lib/python3.11/dist-packages (from ipykernel==6.17.1->google-colab) (1.6.0)\n",
            "Requirement already satisfied: packaging in /usr/local/lib/python3.11/dist-packages (from ipykernel==6.17.1->google-colab) (24.2)\n",
            "Requirement already satisfied: psutil in /usr/local/lib/python3.11/dist-packages (from ipykernel==6.17.1->google-colab) (5.9.5)\n",
            "Requirement already satisfied: pyzmq>=17 in /usr/local/lib/python3.11/dist-packages (from ipykernel==6.17.1->google-colab) (24.0.1)\n",
            "Requirement already satisfied: traitlets>=5.1.0 in /usr/local/lib/python3.11/dist-packages (from ipykernel==6.17.1->google-colab) (5.7.1)\n",
            "Requirement already satisfied: decorator in /usr/local/lib/python3.11/dist-packages (from ipyparallel==8.8.0->google-colab) (4.4.2)\n",
            "Requirement already satisfied: entrypoints in /usr/local/lib/python3.11/dist-packages (from ipyparallel==8.8.0->google-colab) (0.4)\n",
            "Requirement already satisfied: python-dateutil>=2.1 in /usr/local/lib/python3.11/dist-packages (from ipyparallel==8.8.0->google-colab) (2.8.2)\n",
            "Requirement already satisfied: setuptools>=18.5 in /usr/local/lib/python3.11/dist-packages (from ipython==7.34.0->google-colab) (75.1.0)\n",
            "Collecting jedi>=0.16 (from ipython==7.34.0->google-colab)\n",
            "  Downloading jedi-0.19.2-py2.py3-none-any.whl.metadata (22 kB)\n",
            "Requirement already satisfied: pickleshare in /usr/local/lib/python3.11/dist-packages (from ipython==7.34.0->google-colab) (0.7.5)\n",
            "Requirement already satisfied: prompt-toolkit!=3.0.0,!=3.0.1,<3.1.0,>=2.0.0 in /usr/local/lib/python3.11/dist-packages (from ipython==7.34.0->google-colab) (3.0.50)\n",
            "Requirement already satisfied: pygments in /usr/local/lib/python3.11/dist-packages (from ipython==7.34.0->google-colab) (2.18.0)\n",
            "Requirement already satisfied: backcall in /usr/local/lib/python3.11/dist-packages (from ipython==7.34.0->google-colab) (0.2.0)\n",
            "Requirement already satisfied: pexpect>4.3 in /usr/local/lib/python3.11/dist-packages (from ipython==7.34.0->google-colab) (4.9.0)\n",
            "Requirement already satisfied: jinja2 in /usr/local/lib/python3.11/dist-packages (from notebook==6.5.5->google-colab) (3.1.6)\n",
            "Requirement already satisfied: argon2-cffi in /usr/local/lib/python3.11/dist-packages (from notebook==6.5.5->google-colab) (23.1.0)\n",
            "Requirement already satisfied: jupyter-core>=4.6.1 in /usr/local/lib/python3.11/dist-packages (from notebook==6.5.5->google-colab) (5.7.2)\n",
            "Requirement already satisfied: ipython-genutils in /usr/local/lib/python3.11/dist-packages (from notebook==6.5.5->google-colab) (0.2.0)\n",
            "Requirement already satisfied: nbformat in /usr/local/lib/python3.11/dist-packages (from notebook==6.5.5->google-colab) (5.10.4)\n",
            "Requirement already satisfied: nbconvert>=5 in /usr/local/lib/python3.11/dist-packages (from notebook==6.5.5->google-colab) (7.16.6)\n",
            "Requirement already satisfied: Send2Trash>=1.8.0 in /usr/local/lib/python3.11/dist-packages (from notebook==6.5.5->google-colab) (1.8.3)\n",
            "Requirement already satisfied: terminado>=0.8.3 in /usr/local/lib/python3.11/dist-packages (from notebook==6.5.5->google-colab) (0.18.1)\n",
            "Requirement already satisfied: prometheus-client in /usr/local/lib/python3.11/dist-packages (from notebook==6.5.5->google-colab) (0.21.1)\n",
            "Requirement already satisfied: nbclassic>=0.4.7 in /usr/local/lib/python3.11/dist-packages (from notebook==6.5.5->google-colab) (1.2.0)\n",
            "Requirement already satisfied: numpy>=1.23.2 in /usr/local/lib/python3.11/dist-packages (from pandas==2.2.2->google-colab) (1.26.4)\n",
            "Requirement already satisfied: pytz>=2020.1 in /usr/local/lib/python3.11/dist-packages (from pandas==2.2.2->google-colab) (2025.1)\n",
            "Requirement already satisfied: tzdata>=2022.7 in /usr/local/lib/python3.11/dist-packages (from pandas==2.2.2->google-colab) (2025.1)\n",
            "Requirement already satisfied: charset-normalizer<4,>=2 in /usr/local/lib/python3.11/dist-packages (from requests==2.32.3->google-colab) (3.4.1)\n",
            "Requirement already satisfied: idna<4,>=2.5 in /usr/local/lib/python3.11/dist-packages (from requests==2.32.3->google-colab) (3.10)\n",
            "Requirement already satisfied: urllib3<3,>=1.21.1 in /usr/local/lib/python3.11/dist-packages (from requests==2.32.3->google-colab) (2.3.0)\n",
            "Requirement already satisfied: certifi>=2017.4.17 in /usr/local/lib/python3.11/dist-packages (from requests==2.32.3->google-colab) (2025.1.31)\n",
            "Requirement already satisfied: httpcore==1.* in /usr/local/lib/python3.11/dist-packages (from httpx->agno) (1.0.7)\n",
            "Requirement already satisfied: h11<0.15,>=0.13 in /usr/local/lib/python3.11/dist-packages (from httpcore==1.*->httpx->agno) (0.14.0)\n",
            "Requirement already satisfied: annotated-types>=0.6.0 in /usr/local/lib/python3.11/dist-packages (from pydantic->agno) (0.7.0)\n",
            "Requirement already satisfied: pydantic-core==2.27.2 in /usr/local/lib/python3.11/dist-packages (from pydantic->agno) (2.27.2)\n",
            "Requirement already satisfied: gitdb<5,>=4.0.1 in /usr/local/lib/python3.11/dist-packages (from gitpython->agno) (4.0.12)\n",
            "Requirement already satisfied: markdown-it-py>=2.2.0 in /usr/local/lib/python3.11/dist-packages (from rich->agno) (3.0.0)\n",
            "Requirement already satisfied: click>=8.0.0 in /usr/local/lib/python3.11/dist-packages (from typer->agno) (8.1.8)\n",
            "Requirement already satisfied: shellingham>=1.3.0 in /usr/local/lib/python3.11/dist-packages (from typer->agno) (1.5.4)\n",
            "Requirement already satisfied: smmap<6,>=3.0.1 in /usr/local/lib/python3.11/dist-packages (from gitdb<5,>=4.0.1->gitpython->agno) (5.0.2)\n",
            "Requirement already satisfied: parso<0.9.0,>=0.8.4 in /usr/local/lib/python3.11/dist-packages (from jedi>=0.16->ipython==7.34.0->google-colab) (0.8.4)\n",
            "Requirement already satisfied: platformdirs>=2.5 in /usr/local/lib/python3.11/dist-packages (from jupyter-core>=4.6.1->notebook==6.5.5->google-colab) (4.3.6)\n",
            "Requirement already satisfied: mdurl~=0.1 in /usr/local/lib/python3.11/dist-packages (from markdown-it-py>=2.2.0->rich->agno) (0.1.2)\n",
            "Requirement already satisfied: notebook-shim>=0.2.3 in /usr/local/lib/python3.11/dist-packages (from nbclassic>=0.4.7->notebook==6.5.5->google-colab) (0.2.4)\n",
            "Requirement already satisfied: beautifulsoup4 in /usr/local/lib/python3.11/dist-packages (from nbconvert>=5->notebook==6.5.5->google-colab) (4.13.3)\n",
            "Requirement already satisfied: bleach!=5.0.0 in /usr/local/lib/python3.11/dist-packages (from bleach[css]!=5.0.0->nbconvert>=5->notebook==6.5.5->google-colab) (6.2.0)\n",
            "Requirement already satisfied: defusedxml in /usr/local/lib/python3.11/dist-packages (from nbconvert>=5->notebook==6.5.5->google-colab) (0.7.1)\n",
            "Requirement already satisfied: jupyterlab-pygments in /usr/local/lib/python3.11/dist-packages (from nbconvert>=5->notebook==6.5.5->google-colab) (0.3.0)\n",
            "Requirement already satisfied: markupsafe>=2.0 in /usr/local/lib/python3.11/dist-packages (from nbconvert>=5->notebook==6.5.5->google-colab) (3.0.2)\n",
            "Requirement already satisfied: mistune<4,>=2.0.3 in /usr/local/lib/python3.11/dist-packages (from nbconvert>=5->notebook==6.5.5->google-colab) (3.1.2)\n",
            "Requirement already satisfied: nbclient>=0.5.0 in /usr/local/lib/python3.11/dist-packages (from nbconvert>=5->notebook==6.5.5->google-colab) (0.10.2)\n",
            "Requirement already satisfied: pandocfilters>=1.4.1 in /usr/local/lib/python3.11/dist-packages (from nbconvert>=5->notebook==6.5.5->google-colab) (1.5.1)\n",
            "Requirement already satisfied: fastjsonschema>=2.15 in /usr/local/lib/python3.11/dist-packages (from nbformat->notebook==6.5.5->google-colab) (2.21.1)\n",
            "Requirement already satisfied: jsonschema>=2.6 in /usr/local/lib/python3.11/dist-packages (from nbformat->notebook==6.5.5->google-colab) (4.23.0)\n",
            "Requirement already satisfied: ptyprocess>=0.5 in /usr/local/lib/python3.11/dist-packages (from pexpect>4.3->ipython==7.34.0->google-colab) (0.7.0)\n",
            "Requirement already satisfied: wcwidth in /usr/local/lib/python3.11/dist-packages (from prompt-toolkit!=3.0.0,!=3.0.1,<3.1.0,>=2.0.0->ipython==7.34.0->google-colab) (0.2.13)\n",
            "Requirement already satisfied: pyasn1<0.7.0,>=0.4.6 in /usr/local/lib/python3.11/dist-packages (from pyasn1-modules>=0.2.1->google-auth==2.38.0->google-colab) (0.6.1)\n",
            "Requirement already satisfied: six>=1.5 in /usr/local/lib/python3.11/dist-packages (from python-dateutil>=2.1->ipyparallel==8.8.0->google-colab) (1.17.0)\n",
            "Requirement already satisfied: argon2-cffi-bindings in /usr/local/lib/python3.11/dist-packages (from argon2-cffi->notebook==6.5.5->google-colab) (21.2.0)\n",
            "Requirement already satisfied: webencodings in /usr/local/lib/python3.11/dist-packages (from bleach!=5.0.0->bleach[css]!=5.0.0->nbconvert>=5->notebook==6.5.5->google-colab) (0.5.1)\n",
            "Requirement already satisfied: tinycss2<1.5,>=1.1.0 in /usr/local/lib/python3.11/dist-packages (from bleach[css]!=5.0.0->nbconvert>=5->notebook==6.5.5->google-colab) (1.4.0)\n",
            "Requirement already satisfied: attrs>=22.2.0 in /usr/local/lib/python3.11/dist-packages (from jsonschema>=2.6->nbformat->notebook==6.5.5->google-colab) (25.1.0)\n",
            "Requirement already satisfied: jsonschema-specifications>=2023.03.6 in /usr/local/lib/python3.11/dist-packages (from jsonschema>=2.6->nbformat->notebook==6.5.5->google-colab) (2024.10.1)\n",
            "Requirement already satisfied: referencing>=0.28.4 in /usr/local/lib/python3.11/dist-packages (from jsonschema>=2.6->nbformat->notebook==6.5.5->google-colab) (0.36.2)\n",
            "Requirement already satisfied: rpds-py>=0.7.1 in /usr/local/lib/python3.11/dist-packages (from jsonschema>=2.6->nbformat->notebook==6.5.5->google-colab) (0.23.1)\n",
            "Requirement already satisfied: jupyter-server<3,>=1.8 in /usr/local/lib/python3.11/dist-packages (from notebook-shim>=0.2.3->nbclassic>=0.4.7->notebook==6.5.5->google-colab) (1.24.0)\n",
            "Requirement already satisfied: cffi>=1.0.1 in /usr/local/lib/python3.11/dist-packages (from argon2-cffi-bindings->argon2-cffi->notebook==6.5.5->google-colab) (1.17.1)\n",
            "Requirement already satisfied: soupsieve>1.2 in /usr/local/lib/python3.11/dist-packages (from beautifulsoup4->nbconvert>=5->notebook==6.5.5->google-colab) (2.6)\n",
            "Requirement already satisfied: pycparser in /usr/local/lib/python3.11/dist-packages (from cffi>=1.0.1->argon2-cffi-bindings->argon2-cffi->notebook==6.5.5->google-colab) (2.22)\n",
            "Requirement already satisfied: websocket-client in /usr/local/lib/python3.11/dist-packages (from jupyter-server<3,>=1.8->notebook-shim>=0.2.3->nbclassic>=0.4.7->notebook==6.5.5->google-colab) (1.8.0)\n",
            "Downloading openai-1.65.5-py3-none-any.whl (474 kB)\n",
            "\u001b[2K   \u001b[90m━━━━━━━━━━━━━━━━━━━━━━━━━━━━━━━━━━━━━━━━\u001b[0m \u001b[32m474.5/474.5 kB\u001b[0m \u001b[31m9.3 MB/s\u001b[0m eta \u001b[36m0:00:00\u001b[0m\n",
            "\u001b[?25hDownloading jedi-0.19.2-py2.py3-none-any.whl (1.6 MB)\n",
            "\u001b[2K   \u001b[90m━━━━━━━━━━━━━━━━━━━━━━━━━━━━━━━━━━━━━━━━\u001b[0m \u001b[32m1.6/1.6 MB\u001b[0m \u001b[31m35.7 MB/s\u001b[0m eta \u001b[36m0:00:00\u001b[0m\n",
            "\u001b[?25hInstalling collected packages: jedi, openai\n",
            "  Attempting uninstall: openai\n",
            "    Found existing installation: openai 1.61.1\n",
            "    Uninstalling openai-1.61.1:\n",
            "      Successfully uninstalled openai-1.61.1\n",
            "Successfully installed jedi-0.19.2 openai-1.65.5\n"
          ]
        }
      ]
    },
    {
      "cell_type": "code",
      "execution_count": 66,
      "metadata": {
        "id": "vg5Dbjs6g7kX"
      },
      "outputs": [],
      "source": [
        "from agno.agent import Agent\n",
        "from agno.models.groq import Groq\n",
        "from agno.tools.yfinance import YFinanceTools\n",
        "from agno.tools.duckduckgo import DuckDuckGoTools\n",
        "import  openai\n",
        "import os\n",
        "from agno.models.openai import OpenAIChat\n",
        "from agno.playground import Playground, serve_playground_app"
      ]
    },
    {
      "cell_type": "code",
      "source": [
        "from google.colab import userdata\n",
        "os.environ[\"OPENAI_API_KEY\"] = userdata.get('OPENAI_API_KEY')\n",
        "os.environ[\"GROQ_API_KEY\"] = userdata.get('GROQ_API_KEY')\n",
        "os.environ[\"AGNO_API_KEY\"] = userdata.get('PHI_API_KEY')\n",
        "# os.environ[\"PHI_API_KEY\"] = userdata.get('PHI_API_KEY')"
      ],
      "metadata": {
        "id": "FE27Cj9Aimqi"
      },
      "execution_count": 67,
      "outputs": []
    },
    {
      "cell_type": "code",
      "source": [
        "\n",
        "## web search agent\n",
        "web_search_agent=Agent(\n",
        "    name = \"Web Search Agent\",\n",
        "    role = \"Search the web for the information\",\n",
        "    model = Groq(id=\"llama-3.3-70b-versatile\"),\n",
        "    tools = [DuckDuckGoTools()],\n",
        "    instructions = [\"Always include sources\"],\n",
        "    show_tool_calls = True,\n",
        "    markdown = True,\n",
        ")"
      ],
      "metadata": {
        "id": "F3WcysxGEy8m"
      },
      "execution_count": 68,
      "outputs": []
    },
    {
      "cell_type": "code",
      "source": [
        "finance_agent =  Agent(\n",
        "    name = \"Finance AI Agent\",\n",
        "    model = Groq(id=\"llama-3.3-70b-versatile\"),\n",
        "    tools=[YFinanceTools(stock_price=True, analyst_recommendations=True, stock_fundamentals=True, company_info=True, historical_prices= True, technical_indicators= True)],\n",
        "    description=\"You are an investment analyst that researches stock prices, analyst recommendations, and stock fundamentals.\",\n",
        "    instructions=[\"Format your response using markdown and use tables to display data where possible.\"],\n",
        "    show_tool_calls = True,\n",
        "    markdown= True,\n",
        ")"
      ],
      "metadata": {
        "id": "eFT5-11kE15e"
      },
      "execution_count": 69,
      "outputs": []
    },
    {
      "cell_type": "code",
      "source": [
        "# Test the response directly from multi agents\n",
        "response = web_search_agent.run(\"Latest news on NVDA\")\n",
        "print(response)"
      ],
      "metadata": {
        "colab": {
          "base_uri": "https://localhost:8080/"
        },
        "id": "XzZ8GfI_aAlv",
        "outputId": "19190579-4b6f-44c4-a670-ffc5e3f8693e"
      },
      "execution_count": 63,
      "outputs": [
        {
          "output_type": "stream",
          "name": "stdout",
          "text": [
            "RunResponse(content=' - Running: duckduckgo_news(query=NVDA latest news)\\n\\n### Latest News on NVDA\\n\\nHere are the latest news articles on NVDA:\\n\\n1. **Is the Worst Over for Nvidia Stock? The Case for NVDA Falling Below $100.** - It seems reality is finally catching up with Nvidia (NVDA), which has seemed unstoppable since artificial intelligence euphoria began in 2023. The stock, which gained almost 240% in 2023 and 171% in 2024, [Read more](https://www.msn.com/en-us/technology/tech-companies/is-the-worst-over-for-nvidia-stock-the-case-for-nvda-falling-below-100/ar-AA1ACHJZ).\\n2. **Jim Cramer Calls NVIDIA (NVDA) The \\'Odd Man\\' Out of Magnificent Seven** - We recently published a list of Top 10 Stocks Everyone Is Talking About These Days. In this article, we are going to take a look at where NVIDIA Corporation (NASDAQ:NVDA) stands against other top stocks everyone is talking about these days. [Read more](https://www.msn.com/en-us/money/markets/jim-cramer-calls-nvidia-nvda-the-odd-man-out-of-magnificent-seven/ar-AA1ADZGL).\\n3. **NVIDIA (NVDA) Surged on Strong Results and Improved Guidance** - RiverPark Advisors, an investment advisory firm and sponsor of the RiverPark family of mutual funds, released its \"RiverPark Large Growth Fund\" fourth quarter 2024 investor letter. [Read more](https://www.msn.com/en-us/money/savingandinvesting/nvidia-nvda-surged-on-strong-results-and-improved-guidance/ar-AA1ABJRn).\\n4. **Nvidia (NVDA) \"Could Test\" $100 Warns Analyst as Stock Slide Gathers Pace** - Nvidia stock (NVDA) has further to fall, claims a leading analyst, with fears that it could hit $100 in a matter of hours. [Read more](https://markets.businessinsider.com/news/stocks/nvidia-nvda-could-test-100-warns-analyst-as-stock-slide-gathers-pace-1034439468).\\n5. **NVIDIA Co. (NASDAQ:NVDA) Shares Sold by Counterweight Ventures LLC** - Counterweight Ventures LLC reduced its holdings in shares of NVIDIA Co. (NASDAQ:NVDA - Free Report) by 3.0% during the 4th quarter, according to the company in its most recent 13F filing with the Securities & Exchange Commission. [Read more](https://www.etfdailynews.com/2025/03/10/nvidia-co-nasdaqnvda-shares-sold-by-counterweight-ventures-llc/).\\n\\nThese articles provide the latest information on NVDA, including its stock performance, analyst predictions, and recent news.', content_type='str', thinking=None, event='RunResponse', messages=[Message(role='system', content='<your_role>\\nSearch the web for the information\\n</your_role>\\n\\n<instructions>\\nAlways include sources\\n</instructions>\\n\\n<additional_information>\\n- Use markdown to format your answers.\\n</additional_information>', name=None, tool_call_id=None, tool_calls=None, audio=None, images=None, videos=None, audio_output=None, thinking=None, redacted_thinking=None, provider_data=None, reasoning_content=None, tool_name=None, tool_args=None, tool_call_error=None, stop_after_tool_call=False, add_to_agent_memory=True, from_history=False, metrics=MessageMetrics(input_tokens=0, output_tokens=0, total_tokens=0, prompt_tokens=0, completion_tokens=0, prompt_tokens_details=None, completion_tokens_details=None, additional_metrics=None, time=None, time_to_first_token=None, timer=None), references=None, created_at=1741666446), Message(role='user', content='Latest news on NVDA', name=None, tool_call_id=None, tool_calls=None, audio=None, images=None, videos=None, audio_output=None, thinking=None, redacted_thinking=None, provider_data=None, reasoning_content=None, tool_name=None, tool_args=None, tool_call_error=None, stop_after_tool_call=False, add_to_agent_memory=True, from_history=False, metrics=MessageMetrics(input_tokens=0, output_tokens=0, total_tokens=0, prompt_tokens=0, completion_tokens=0, prompt_tokens_details=None, completion_tokens_details=None, additional_metrics=None, time=None, time_to_first_token=None, timer=None), references=None, created_at=1741666446), Message(role='assistant', content=None, name=None, tool_call_id=None, tool_calls=[{'id': 'call_bs6q', 'function': {'arguments': '{\"query\": \"NVDA latest news\"}', 'name': 'duckduckgo_news'}, 'type': 'function'}], audio=None, images=None, videos=None, audio_output=None, thinking=None, redacted_thinking=None, provider_data=None, reasoning_content=None, tool_name=None, tool_args=None, tool_call_error=None, stop_after_tool_call=False, add_to_agent_memory=True, from_history=False, metrics=MessageMetrics(input_tokens=413, output_tokens=20, total_tokens=433, prompt_tokens=0, completion_tokens=0, prompt_tokens_details=None, completion_tokens_details=None, additional_metrics={'completion_time': 0.072727273, 'prompt_time': 0.020706947, 'queue_time': 0.479890181, 'total_time': 0.09343422}, time=0.8889555659998223, time_to_first_token=None, timer=<agno.utils.timer.Timer object at 0x7dde54698050>), references=None, created_at=1741666446), Message(role='tool', content='[\\n  {\\n    \"date\": \"2025-03-10T14:56:47+00:00\",\\n    \"title\": \"Is the Worst Over for Nvidia Stock? The Case for NVDA Falling Below $100.\",\\n    \"body\": \"It seems reality is finally catching up with Nvidia (NVDA), which has seemed unstoppable since artificial intelligence euphoria began in 2023. The stock, which gained almost 240% in 2023 and 171% in 2024,\",\\n    \"url\": \"https://www.msn.com/en-us/technology/tech-companies/is-the-worst-over-for-nvidia-stock-the-case-for-nvda-falling-below-100/ar-AA1ACHJZ\",\\n    \"image\": \"https://img-s-msn-com.akamaized.net/tenant/amp/entityid/AA1ACOVk.img?w=1600&h=1067&m=4&q=50\",\\n    \"source\": \"Barchart\"\\n  },\\n  {\\n    \"date\": \"2025-03-10T22:03:52+00:00\",\\n    \"title\": \"Jim Cramer Calls NVIDIA (NVDA) The \\'Odd Man\\' Out of Magnificent Seven\",\\n    \"body\": \"We recently published a list of Top 10 Stocks Everyone Is Talking About These Days. In this article, we are going to take a look at where NVIDIA Corporation (NASDAQ:NVDA) stands against other top stocks everyone is talking about these days.\",\\n    \"url\": \"https://www.msn.com/en-us/money/markets/jim-cramer-calls-nvidia-nvda-the-odd-man-out-of-magnificent-seven/ar-AA1ADZGL\",\\n    \"image\": \"https://img-s-msn-com.akamaized.net/tenant/amp/entityid/BB1mUWkg.img?w=1456&h=816&m=4&q=91\",\\n    \"source\": \"Insider Monkey\"\\n  },\\n  {\\n    \"date\": \"2025-03-10T11:41:35+00:00\",\\n    \"title\": \"NVIDIA (NVDA) Surged on Strong Results and Improved Guidance\",\\n    \"body\": \"RiverPark Advisors, an investment advisory firm and sponsor of the RiverPark family of mutual funds, released its \\\\\"RiverPark Large Growth Fund\\\\\" fourth quarter 2024 investor letter.\",\\n    \"url\": \"https://www.msn.com/en-us/money/savingandinvesting/nvidia-nvda-surged-on-strong-results-and-improved-guidance/ar-AA1ABJRn\",\\n    \"image\": \"https://d2gr5kl7dt2z3t.cloudfront.net/blog/wp-content/uploads/2023/09/19153615/NVDA-insidermonkey-1695152172066.jpg\",\\n    \"source\": \"Insider Monkey\"\\n  },\\n  {\\n    \"date\": \"2025-03-04T16:13:00+00:00\",\\n    \"title\": \"Nvidia (NVDA) \\\\\"Could Test\\\\\" $100 Warns Analyst as Stock Slide Gathers Pace\",\\n    \"body\": \"Nvidia stock (NVDA) has further to fall, claims a leading analyst, with fears that it could hit $100 in a matter of hours. Discover the Best\",\\n    \"url\": \"https://markets.businessinsider.com/news/stocks/nvidia-nvda-could-test-100-warns-analyst-as-stock-slide-gathers-pace-1034439468\",\\n    \"image\": \"https://blog.tipranks.com/wp-content/uploads/2025/03/image-157.png?utm_source=markets.businessinsider.com&utm_medium=referral\",\\n    \"source\": \"Markets Insider\"\\n  },\\n  {\\n    \"date\": \"2025-03-10T09:15:00+00:00\",\\n    \"title\": \"NVIDIA Co. (NASDAQ:NVDA) Shares Sold by Counterweight Ventures LLC\",\\n    \"body\": \"Counterweight Ventures LLC reduced its holdings in shares of NVIDIA Co. (NASDAQ:NVDA - Free Report) by 3.0% during the 4th quarter, according to the company in its most recent 13F filing with the Securities & Exchange Commission.\",\\n    \"url\": \"https://www.etfdailynews.com/2025/03/10/nvidia-co-nasdaqnvda-shares-sold-by-counterweight-ventures-llc/\",\\n    \"image\": \"https://www.americanbankingnews.com/wp-content/timthumb/timthumb.php?src=https://www.marketbeat.com/logos/nvidia-co-logo-1200x675.jpg?v=20221020142916&w=240&h=240&zc=2\",\\n    \"source\": \"ETF Daily News\"\\n  }\\n]', name=None, tool_call_id='call_bs6q', tool_calls=None, audio=None, images=None, videos=None, audio_output=None, thinking=None, redacted_thinking=None, provider_data=None, reasoning_content=None, tool_name='duckduckgo_news', tool_args={'query': 'NVDA latest news'}, tool_call_error=False, stop_after_tool_call=False, add_to_agent_memory=True, from_history=False, metrics=MessageMetrics(input_tokens=0, output_tokens=0, total_tokens=0, prompt_tokens=0, completion_tokens=0, prompt_tokens_details=None, completion_tokens_details=None, additional_metrics=None, time=1.2157309590002114, time_to_first_token=None, timer=None), references=None, created_at=1741666448), Message(role='assistant', content='### Latest News on NVDA\\n\\nHere are the latest news articles on NVDA:\\n\\n1. **Is the Worst Over for Nvidia Stock? The Case for NVDA Falling Below $100.** - It seems reality is finally catching up with Nvidia (NVDA), which has seemed unstoppable since artificial intelligence euphoria began in 2023. The stock, which gained almost 240% in 2023 and 171% in 2024, [Read more](https://www.msn.com/en-us/technology/tech-companies/is-the-worst-over-for-nvidia-stock-the-case-for-nvda-falling-below-100/ar-AA1ACHJZ).\\n2. **Jim Cramer Calls NVIDIA (NVDA) The \\'Odd Man\\' Out of Magnificent Seven** - We recently published a list of Top 10 Stocks Everyone Is Talking About These Days. In this article, we are going to take a look at where NVIDIA Corporation (NASDAQ:NVDA) stands against other top stocks everyone is talking about these days. [Read more](https://www.msn.com/en-us/money/markets/jim-cramer-calls-nvidia-nvda-the-odd-man-out-of-magnificent-seven/ar-AA1ADZGL).\\n3. **NVIDIA (NVDA) Surged on Strong Results and Improved Guidance** - RiverPark Advisors, an investment advisory firm and sponsor of the RiverPark family of mutual funds, released its \"RiverPark Large Growth Fund\" fourth quarter 2024 investor letter. [Read more](https://www.msn.com/en-us/money/savingandinvesting/nvidia-nvda-surged-on-strong-results-and-improved-guidance/ar-AA1ABJRn).\\n4. **Nvidia (NVDA) \"Could Test\" $100 Warns Analyst as Stock Slide Gathers Pace** - Nvidia stock (NVDA) has further to fall, claims a leading analyst, with fears that it could hit $100 in a matter of hours. [Read more](https://markets.businessinsider.com/news/stocks/nvidia-nvda-could-test-100-warns-analyst-as-stock-slide-gathers-pace-1034439468).\\n5. **NVIDIA Co. (NASDAQ:NVDA) Shares Sold by Counterweight Ventures LLC** - Counterweight Ventures LLC reduced its holdings in shares of NVIDIA Co. (NASDAQ:NVDA - Free Report) by 3.0% during the 4th quarter, according to the company in its most recent 13F filing with the Securities & Exchange Commission. [Read more](https://www.etfdailynews.com/2025/03/10/nvidia-co-nasdaqnvda-shares-sold-by-counterweight-ventures-llc/).\\n\\nThese articles provide the latest information on NVDA, including its stock performance, analyst predictions, and recent news.', name=None, tool_call_id=None, tool_calls=None, audio=None, images=None, videos=None, audio_output=None, thinking=None, redacted_thinking=None, provider_data=None, reasoning_content=None, tool_name=None, tool_args=None, tool_call_error=None, stop_after_tool_call=False, add_to_agent_memory=True, from_history=False, metrics=MessageMetrics(input_tokens=1451, output_tokens=590, total_tokens=2041, prompt_tokens=0, completion_tokens=0, prompt_tokens_details=None, completion_tokens_details=None, additional_metrics={'completion_time': 2.1454545449999998, 'prompt_time': 0.063751662, 'queue_time': 0.23388957100000002, 'total_time': 2.209206207}, time=2.5355456490005963, time_to_first_token=None, timer=<agno.utils.timer.Timer object at 0x7dde54f40d90>), references=None, created_at=1741666448)], metrics={'input_tokens': [413, 1451], 'output_tokens': [20, 590], 'total_tokens': [433, 2041], 'prompt_tokens': [0, 0], 'completion_tokens': [0, 0], 'additional_metrics': [{'completion_time': 0.072727273, 'prompt_time': 0.020706947, 'queue_time': 0.479890181, 'total_time': 0.09343422}, {'completion_time': 2.1454545449999998, 'prompt_time': 0.063751662, 'queue_time': 0.23388957100000002, 'total_time': 2.209206207}], 'time': [0.8889555659998223, 2.5355456490005963]}, model='llama-3.3-70b-versatile', run_id='f722f871-2200-40c2-adbf-c0260c616ae2', agent_id='d4f98d12-8696-4b98-bdae-665d421b4f2b', session_id='83250d2a-7489-4fec-9f59-865ea5134eba', workflow_id=None, tools=[{'content': '[\\n  {\\n    \"date\": \"2025-03-10T14:56:47+00:00\",\\n    \"title\": \"Is the Worst Over for Nvidia Stock? The Case for NVDA Falling Below $100.\",\\n    \"body\": \"It seems reality is finally catching up with Nvidia (NVDA), which has seemed unstoppable since artificial intelligence euphoria began in 2023. The stock, which gained almost 240% in 2023 and 171% in 2024,\",\\n    \"url\": \"https://www.msn.com/en-us/technology/tech-companies/is-the-worst-over-for-nvidia-stock-the-case-for-nvda-falling-below-100/ar-AA1ACHJZ\",\\n    \"image\": \"https://img-s-msn-com.akamaized.net/tenant/amp/entityid/AA1ACOVk.img?w=1600&h=1067&m=4&q=50\",\\n    \"source\": \"Barchart\"\\n  },\\n  {\\n    \"date\": \"2025-03-10T22:03:52+00:00\",\\n    \"title\": \"Jim Cramer Calls NVIDIA (NVDA) The \\'Odd Man\\' Out of Magnificent Seven\",\\n    \"body\": \"We recently published a list of Top 10 Stocks Everyone Is Talking About These Days. In this article, we are going to take a look at where NVIDIA Corporation (NASDAQ:NVDA) stands against other top stocks everyone is talking about these days.\",\\n    \"url\": \"https://www.msn.com/en-us/money/markets/jim-cramer-calls-nvidia-nvda-the-odd-man-out-of-magnificent-seven/ar-AA1ADZGL\",\\n    \"image\": \"https://img-s-msn-com.akamaized.net/tenant/amp/entityid/BB1mUWkg.img?w=1456&h=816&m=4&q=91\",\\n    \"source\": \"Insider Monkey\"\\n  },\\n  {\\n    \"date\": \"2025-03-10T11:41:35+00:00\",\\n    \"title\": \"NVIDIA (NVDA) Surged on Strong Results and Improved Guidance\",\\n    \"body\": \"RiverPark Advisors, an investment advisory firm and sponsor of the RiverPark family of mutual funds, released its \\\\\"RiverPark Large Growth Fund\\\\\" fourth quarter 2024 investor letter.\",\\n    \"url\": \"https://www.msn.com/en-us/money/savingandinvesting/nvidia-nvda-surged-on-strong-results-and-improved-guidance/ar-AA1ABJRn\",\\n    \"image\": \"https://d2gr5kl7dt2z3t.cloudfront.net/blog/wp-content/uploads/2023/09/19153615/NVDA-insidermonkey-1695152172066.jpg\",\\n    \"source\": \"Insider Monkey\"\\n  },\\n  {\\n    \"date\": \"2025-03-04T16:13:00+00:00\",\\n    \"title\": \"Nvidia (NVDA) \\\\\"Could Test\\\\\" $100 Warns Analyst as Stock Slide Gathers Pace\",\\n    \"body\": \"Nvidia stock (NVDA) has further to fall, claims a leading analyst, with fears that it could hit $100 in a matter of hours. Discover the Best\",\\n    \"url\": \"https://markets.businessinsider.com/news/stocks/nvidia-nvda-could-test-100-warns-analyst-as-stock-slide-gathers-pace-1034439468\",\\n    \"image\": \"https://blog.tipranks.com/wp-content/uploads/2025/03/image-157.png?utm_source=markets.businessinsider.com&utm_medium=referral\",\\n    \"source\": \"Markets Insider\"\\n  },\\n  {\\n    \"date\": \"2025-03-10T09:15:00+00:00\",\\n    \"title\": \"NVIDIA Co. (NASDAQ:NVDA) Shares Sold by Counterweight Ventures LLC\",\\n    \"body\": \"Counterweight Ventures LLC reduced its holdings in shares of NVIDIA Co. (NASDAQ:NVDA - Free Report) by 3.0% during the 4th quarter, according to the company in its most recent 13F filing with the Securities & Exchange Commission.\",\\n    \"url\": \"https://www.etfdailynews.com/2025/03/10/nvidia-co-nasdaqnvda-shares-sold-by-counterweight-ventures-llc/\",\\n    \"image\": \"https://www.americanbankingnews.com/wp-content/timthumb/timthumb.php?src=https://www.marketbeat.com/logos/nvidia-co-logo-1200x675.jpg?v=20221020142916&w=240&h=240&zc=2\",\\n    \"source\": \"ETF Daily News\"\\n  }\\n]', 'tool_call_id': 'call_bs6q', 'tool_name': 'duckduckgo_news', 'tool_args': {'query': 'NVDA latest news'}, 'tool_call_error': False, 'metrics': MessageMetrics(input_tokens=0, output_tokens=0, total_tokens=0, prompt_tokens=0, completion_tokens=0, prompt_tokens_details=None, completion_tokens_details=None, additional_metrics=None, time=1.2157309590002114, time_to_first_token=None, timer=None), 'created_at': 1741666448}], images=None, videos=None, audio=None, response_audio=None, extra_data=None, created_at=1741660600)\n"
          ]
        }
      ]
    },
    {
      "cell_type": "code",
      "source": [
        "response = finance_agent.run(\"Stock price and analyst recommendations for NVDA\")\n",
        "print(response)"
      ],
      "metadata": {
        "colab": {
          "base_uri": "https://localhost:8080/"
        },
        "id": "3tJX6v6daAh_",
        "outputId": "04f35337-a6df-47c2-8f51-4c80d3115246"
      },
      "execution_count": 64,
      "outputs": [
        {
          "output_type": "stream",
          "name": "stdout",
          "text": [
            "RunResponse(content='Running:\\n - get_current_stock_price(symbol=NVDA)\\n - get_analyst_recommendations(symbol=NVDA)\\n\\n### Stock Price and Analyst Recommendations for NVDA\\nThe current stock price for NVDA is **$106.98**.\\n\\n### Analyst Recommendations\\nThe following table shows the analyst recommendations for NVDA:\\n\\n| Period | Strong Buy | Buy | Hold | Sell | Strong Sell |\\n| --- | --- | --- | --- | --- | --- |\\n| 0m | 11 | 47 | 5 | 0 | 0 |\\n| -1m | 11 | 47 | 5 | 0 | 0 |\\n| -2m | 12 | 48 | 4 | 0 | 0 |\\n| -3m | 12 | 48 | 4 | 0 | 0 |', content_type='str', thinking=None, event='RunResponse', messages=[Message(role='system', content='You are an investment analyst that researches stock prices, analyst recommendations, and stock fundamentals.\\n\\n<instructions>\\nFormat your response using markdown and use tables to display data where possible.\\n</instructions>\\n\\n<additional_information>\\n- Use markdown to format your answers.\\n</additional_information>', name=None, tool_call_id=None, tool_calls=None, audio=None, images=None, videos=None, audio_output=None, thinking=None, redacted_thinking=None, provider_data=None, reasoning_content=None, tool_name=None, tool_args=None, tool_call_error=None, stop_after_tool_call=False, add_to_agent_memory=True, from_history=False, metrics=MessageMetrics(input_tokens=0, output_tokens=0, total_tokens=0, prompt_tokens=0, completion_tokens=0, prompt_tokens_details=None, completion_tokens_details=None, additional_metrics=None, time=None, time_to_first_token=None, timer=None), references=None, created_at=1741666467), Message(role='user', content='Stock price and analyst recommendations for NVDA', name=None, tool_call_id=None, tool_calls=None, audio=None, images=None, videos=None, audio_output=None, thinking=None, redacted_thinking=None, provider_data=None, reasoning_content=None, tool_name=None, tool_args=None, tool_call_error=None, stop_after_tool_call=False, add_to_agent_memory=True, from_history=False, metrics=MessageMetrics(input_tokens=0, output_tokens=0, total_tokens=0, prompt_tokens=0, completion_tokens=0, prompt_tokens_details=None, completion_tokens_details=None, additional_metrics=None, time=None, time_to_first_token=None, timer=None), references=None, created_at=1741666467), Message(role='assistant', content=None, name=None, tool_call_id=None, tool_calls=[{'id': 'call_56tf', 'function': {'arguments': '{\"symbol\": \"NVDA\"}', 'name': 'get_current_stock_price'}, 'type': 'function'}, {'id': 'call_747h', 'function': {'arguments': '{\"symbol\": \"NVDA\"}', 'name': 'get_analyst_recommendations'}, 'type': 'function'}], audio=None, images=None, videos=None, audio_output=None, thinking=None, redacted_thinking=None, provider_data=None, reasoning_content=None, tool_name=None, tool_args=None, tool_call_error=None, stop_after_tool_call=False, add_to_agent_memory=True, from_history=False, metrics=MessageMetrics(input_tokens=881, output_tokens=271, total_tokens=1152, prompt_tokens=0, completion_tokens=0, prompt_tokens_details=None, completion_tokens_details=None, additional_metrics={'completion_time': 0.985454545, 'prompt_time': 0.037606235, 'queue_time': 0.29572111, 'total_time': 1.02306078}, time=1.5606808340007774, time_to_first_token=None, timer=<agno.utils.timer.Timer object at 0x7dde547ee290>), references=None, created_at=1741666467), Message(role='tool', content='106.9800', name=None, tool_call_id='call_56tf', tool_calls=None, audio=None, images=None, videos=None, audio_output=None, thinking=None, redacted_thinking=None, provider_data=None, reasoning_content=None, tool_name='get_current_stock_price', tool_args={'symbol': 'NVDA'}, tool_call_error=False, stop_after_tool_call=False, add_to_agent_memory=True, from_history=False, metrics=MessageMetrics(input_tokens=0, output_tokens=0, total_tokens=0, prompt_tokens=0, completion_tokens=0, prompt_tokens_details=None, completion_tokens_details=None, additional_metrics=None, time=0.2096979369998735, time_to_first_token=None, timer=None), references=None, created_at=1741666469), Message(role='tool', content='{\"0\":{\"period\":\"0m\",\"strongBuy\":11,\"buy\":47,\"hold\":5,\"sell\":0,\"strongSell\":0},\"1\":{\"period\":\"-1m\",\"strongBuy\":11,\"buy\":47,\"hold\":5,\"sell\":0,\"strongSell\":0},\"2\":{\"period\":\"-2m\",\"strongBuy\":12,\"buy\":48,\"hold\":4,\"sell\":0,\"strongSell\":0},\"3\":{\"period\":\"-3m\",\"strongBuy\":12,\"buy\":48,\"hold\":4,\"sell\":0,\"strongSell\":0}}', name=None, tool_call_id='call_747h', tool_calls=None, audio=None, images=None, videos=None, audio_output=None, thinking=None, redacted_thinking=None, provider_data=None, reasoning_content=None, tool_name='get_analyst_recommendations', tool_args={'symbol': 'NVDA'}, tool_call_error=False, stop_after_tool_call=False, add_to_agent_memory=True, from_history=False, metrics=MessageMetrics(input_tokens=0, output_tokens=0, total_tokens=0, prompt_tokens=0, completion_tokens=0, prompt_tokens_details=None, completion_tokens_details=None, additional_metrics=None, time=0.0731226419993618, time_to_first_token=None, timer=None), references=None, created_at=1741666469), Message(role='assistant', content='### Stock Price and Analyst Recommendations for NVDA\\nThe current stock price for NVDA is **$106.98**.\\n\\n### Analyst Recommendations\\nThe following table shows the analyst recommendations for NVDA:\\n\\n| Period | Strong Buy | Buy | Hold | Sell | Strong Sell |\\n| --- | --- | --- | --- | --- | --- |\\n| 0m | 11 | 47 | 5 | 0 | 0 |\\n| -1m | 11 | 47 | 5 | 0 | 0 |\\n| -2m | 12 | 48 | 4 | 0 | 0 |\\n| -3m | 12 | 48 | 4 | 0 | 0 |', name=None, tool_call_id=None, tool_calls=None, audio=None, images=None, videos=None, audio_output=None, thinking=None, redacted_thinking=None, provider_data=None, reasoning_content=None, tool_name=None, tool_args=None, tool_call_error=None, stop_after_tool_call=False, add_to_agent_memory=True, from_history=False, metrics=MessageMetrics(input_tokens=1056, output_tokens=149, total_tokens=1205, prompt_tokens=0, completion_tokens=0, prompt_tokens_details=None, completion_tokens_details=None, additional_metrics={'completion_time': 0.541818182, 'prompt_time': 0.042151242, 'queue_time': 0.23957161800000001, 'total_time': 0.583969424}, time=0.8787149319996388, time_to_first_token=None, timer=<agno.utils.timer.Timer object at 0x7dde5483d810>), references=None, created_at=1741666469)], metrics={'input_tokens': [881, 1056], 'output_tokens': [271, 149], 'total_tokens': [1152, 1205], 'prompt_tokens': [0, 0], 'completion_tokens': [0, 0], 'additional_metrics': [{'completion_time': 0.985454545, 'prompt_time': 0.037606235, 'queue_time': 0.29572111, 'total_time': 1.02306078}, {'completion_time': 0.541818182, 'prompt_time': 0.042151242, 'queue_time': 0.23957161800000001, 'total_time': 0.583969424}], 'time': [1.5606808340007774, 0.8787149319996388]}, model='llama-3.3-70b-versatile', run_id='9c309dd7-24b4-4743-8993-4a01285fa277', agent_id='b8cfb3f2-deb0-4918-8213-29baea000823', session_id='da932889-336d-4882-a12a-7740e5467923', workflow_id=None, tools=[{'content': '106.9800', 'tool_call_id': 'call_56tf', 'tool_name': 'get_current_stock_price', 'tool_args': {'symbol': 'NVDA'}, 'tool_call_error': False, 'metrics': MessageMetrics(input_tokens=0, output_tokens=0, total_tokens=0, prompt_tokens=0, completion_tokens=0, prompt_tokens_details=None, completion_tokens_details=None, additional_metrics=None, time=0.2096979369998735, time_to_first_token=None, timer=None), 'created_at': 1741666469}, {'content': '{\"0\":{\"period\":\"0m\",\"strongBuy\":11,\"buy\":47,\"hold\":5,\"sell\":0,\"strongSell\":0},\"1\":{\"period\":\"-1m\",\"strongBuy\":11,\"buy\":47,\"hold\":5,\"sell\":0,\"strongSell\":0},\"2\":{\"period\":\"-2m\",\"strongBuy\":12,\"buy\":48,\"hold\":4,\"sell\":0,\"strongSell\":0},\"3\":{\"period\":\"-3m\",\"strongBuy\":12,\"buy\":48,\"hold\":4,\"sell\":0,\"strongSell\":0}}', 'tool_call_id': 'call_747h', 'tool_name': 'get_analyst_recommendations', 'tool_args': {'symbol': 'NVDA'}, 'tool_call_error': False, 'metrics': MessageMetrics(input_tokens=0, output_tokens=0, total_tokens=0, prompt_tokens=0, completion_tokens=0, prompt_tokens_details=None, completion_tokens_details=None, additional_metrics=None, time=0.0731226419993618, time_to_first_token=None, timer=None), 'created_at': 1741666469}], images=None, videos=None, audio=None, response_audio=None, extra_data=None, created_at=1741660600)\n"
          ]
        }
      ]
    },
    {
      "cell_type": "code",
      "source": [
        "app=Playground(agents=[web_search_agent, finance_agent]).get_app()\n"
      ],
      "metadata": {
        "colab": {
          "base_uri": "https://localhost:8080/",
          "height": 347
        },
        "id": "ZiQk_38XE8Bp",
        "outputId": "c50cfcb0-df7c-48af-ef9f-e61db3ff6e77"
      },
      "execution_count": 70,
      "outputs": [
        {
          "output_type": "error",
          "ename": "ValidationError",
          "evalue": "1 validation error for PlaygroundSettings\nenv\n  Value error, Invalid Playground Env: /root/.bashrc [type=value_error, input_value='/root/.bashrc', input_type=str]\n    For further information visit https://errors.pydantic.dev/2.10/v/value_error",
          "traceback": [
            "\u001b[0;31m---------------------------------------------------------------------------\u001b[0m",
            "\u001b[0;31mValidationError\u001b[0m                           Traceback (most recent call last)",
            "\u001b[0;32m<ipython-input-70-6b299cb22d93>\u001b[0m in \u001b[0;36m<cell line: 0>\u001b[0;34m()\u001b[0m\n\u001b[0;32m----> 1\u001b[0;31m \u001b[0mapp\u001b[0m\u001b[0;34m=\u001b[0m\u001b[0mPlayground\u001b[0m\u001b[0;34m(\u001b[0m\u001b[0magents\u001b[0m\u001b[0;34m=\u001b[0m\u001b[0;34m[\u001b[0m\u001b[0mweb_search_agent\u001b[0m\u001b[0;34m,\u001b[0m \u001b[0mfinance_agent\u001b[0m\u001b[0;34m]\u001b[0m\u001b[0;34m)\u001b[0m\u001b[0;34m.\u001b[0m\u001b[0mget_app\u001b[0m\u001b[0;34m(\u001b[0m\u001b[0;34m)\u001b[0m\u001b[0;34m\u001b[0m\u001b[0;34m\u001b[0m\u001b[0m\n\u001b[0m",
            "\u001b[0;32m/usr/local/lib/python3.11/dist-packages/agno/playground/playground.py\u001b[0m in \u001b[0;36m__init__\u001b[0;34m(self, agents, workflows, settings, api_app, router)\u001b[0m\n\u001b[1;32m     30\u001b[0m         \u001b[0mself\u001b[0m\u001b[0;34m.\u001b[0m\u001b[0magents\u001b[0m\u001b[0;34m:\u001b[0m \u001b[0mOptional\u001b[0m\u001b[0;34m[\u001b[0m\u001b[0mList\u001b[0m\u001b[0;34m[\u001b[0m\u001b[0mAgent\u001b[0m\u001b[0;34m]\u001b[0m\u001b[0;34m]\u001b[0m \u001b[0;34m=\u001b[0m \u001b[0magents\u001b[0m\u001b[0;34m\u001b[0m\u001b[0;34m\u001b[0m\u001b[0m\n\u001b[1;32m     31\u001b[0m         \u001b[0mself\u001b[0m\u001b[0;34m.\u001b[0m\u001b[0mworkflows\u001b[0m\u001b[0;34m:\u001b[0m \u001b[0mOptional\u001b[0m\u001b[0;34m[\u001b[0m\u001b[0mList\u001b[0m\u001b[0;34m[\u001b[0m\u001b[0mWorkflow\u001b[0m\u001b[0;34m]\u001b[0m\u001b[0;34m]\u001b[0m \u001b[0;34m=\u001b[0m \u001b[0mworkflows\u001b[0m\u001b[0;34m\u001b[0m\u001b[0;34m\u001b[0m\u001b[0m\n\u001b[0;32m---> 32\u001b[0;31m         \u001b[0mself\u001b[0m\u001b[0;34m.\u001b[0m\u001b[0msettings\u001b[0m\u001b[0;34m:\u001b[0m \u001b[0mPlaygroundSettings\u001b[0m \u001b[0;34m=\u001b[0m \u001b[0msettings\u001b[0m \u001b[0;32mor\u001b[0m \u001b[0mPlaygroundSettings\u001b[0m\u001b[0;34m(\u001b[0m\u001b[0;34m)\u001b[0m\u001b[0;34m\u001b[0m\u001b[0;34m\u001b[0m\u001b[0m\n\u001b[0m\u001b[1;32m     33\u001b[0m         \u001b[0mself\u001b[0m\u001b[0;34m.\u001b[0m\u001b[0mapi_app\u001b[0m\u001b[0;34m:\u001b[0m \u001b[0mOptional\u001b[0m\u001b[0;34m[\u001b[0m\u001b[0mFastAPI\u001b[0m\u001b[0;34m]\u001b[0m \u001b[0;34m=\u001b[0m \u001b[0mapi_app\u001b[0m\u001b[0;34m\u001b[0m\u001b[0;34m\u001b[0m\u001b[0m\n\u001b[1;32m     34\u001b[0m         \u001b[0mself\u001b[0m\u001b[0;34m.\u001b[0m\u001b[0mrouter\u001b[0m\u001b[0;34m:\u001b[0m \u001b[0mOptional\u001b[0m\u001b[0;34m[\u001b[0m\u001b[0mAPIRouter\u001b[0m\u001b[0;34m]\u001b[0m \u001b[0;34m=\u001b[0m \u001b[0mrouter\u001b[0m\u001b[0;34m\u001b[0m\u001b[0;34m\u001b[0m\u001b[0m\n",
            "\u001b[0;32m/usr/local/lib/python3.11/dist-packages/pydantic_settings/main.py\u001b[0m in \u001b[0;36m__init__\u001b[0;34m(__pydantic_self__, _case_sensitive, _nested_model_default_partial_update, _env_prefix, _env_file, _env_file_encoding, _env_ignore_empty, _env_nested_delimiter, _env_nested_max_split, _env_parse_none_str, _env_parse_enums, _cli_prog_name, _cli_parse_args, _cli_settings_source, _cli_parse_none_str, _cli_hide_none_type, _cli_avoid_json, _cli_enforce_required, _cli_use_class_docs_for_groups, _cli_exit_on_error, _cli_prefix, _cli_flag_prefix_char, _cli_implicit_flags, _cli_ignore_unknown_args, _cli_kebab_case, _secrets_dir, **values)\u001b[0m\n\u001b[1;32m    174\u001b[0m         \u001b[0;34m**\u001b[0m\u001b[0mvalues\u001b[0m\u001b[0;34m:\u001b[0m \u001b[0mAny\u001b[0m\u001b[0;34m,\u001b[0m\u001b[0;34m\u001b[0m\u001b[0;34m\u001b[0m\u001b[0m\n\u001b[1;32m    175\u001b[0m     ) -> None:\n\u001b[0;32m--> 176\u001b[0;31m         super().__init__(\n\u001b[0m\u001b[1;32m    177\u001b[0m             **__pydantic_self__._settings_build_values(\n\u001b[1;32m    178\u001b[0m                 \u001b[0mvalues\u001b[0m\u001b[0;34m,\u001b[0m\u001b[0;34m\u001b[0m\u001b[0;34m\u001b[0m\u001b[0m\n",
            "\u001b[0;32m/usr/local/lib/python3.11/dist-packages/pydantic/main.py\u001b[0m in \u001b[0;36m__init__\u001b[0;34m(self, **data)\u001b[0m\n\u001b[1;32m    212\u001b[0m         \u001b[0;31m# `__tracebackhide__` tells pytest and some other tools to omit this function from tracebacks\u001b[0m\u001b[0;34m\u001b[0m\u001b[0;34m\u001b[0m\u001b[0m\n\u001b[1;32m    213\u001b[0m         \u001b[0m__tracebackhide__\u001b[0m \u001b[0;34m=\u001b[0m \u001b[0;32mTrue\u001b[0m\u001b[0;34m\u001b[0m\u001b[0;34m\u001b[0m\u001b[0m\n\u001b[0;32m--> 214\u001b[0;31m         \u001b[0mvalidated_self\u001b[0m \u001b[0;34m=\u001b[0m \u001b[0mself\u001b[0m\u001b[0;34m.\u001b[0m\u001b[0m__pydantic_validator__\u001b[0m\u001b[0;34m.\u001b[0m\u001b[0mvalidate_python\u001b[0m\u001b[0;34m(\u001b[0m\u001b[0mdata\u001b[0m\u001b[0;34m,\u001b[0m \u001b[0mself_instance\u001b[0m\u001b[0;34m=\u001b[0m\u001b[0mself\u001b[0m\u001b[0;34m)\u001b[0m\u001b[0;34m\u001b[0m\u001b[0;34m\u001b[0m\u001b[0m\n\u001b[0m\u001b[1;32m    215\u001b[0m         \u001b[0;32mif\u001b[0m \u001b[0mself\u001b[0m \u001b[0;32mis\u001b[0m \u001b[0;32mnot\u001b[0m \u001b[0mvalidated_self\u001b[0m\u001b[0;34m:\u001b[0m\u001b[0;34m\u001b[0m\u001b[0;34m\u001b[0m\u001b[0m\n\u001b[1;32m    216\u001b[0m             warnings.warn(\n",
            "\u001b[0;31mValidationError\u001b[0m: 1 validation error for PlaygroundSettings\nenv\n  Value error, Invalid Playground Env: /root/.bashrc [type=value_error, input_value='/root/.bashrc', input_type=str]\n    For further information visit https://errors.pydantic.dev/2.10/v/value_error"
          ]
        }
      ]
    },
    {
      "cell_type": "code",
      "source": [
        "multi_ai_agent = Agent(\n",
        "    team =  [web_search_agent, finance_agent],\n",
        "    instructions=[\"Always include sources\",\"Format your response using markdown and use tables to display data where possible.\"],\n",
        "    show_tool_calls=True,\n",
        "    markdown= True,\n",
        "\n",
        ")"
      ],
      "metadata": {
        "id": "lDiOLsn4E4FX"
      },
      "execution_count": 45,
      "outputs": []
    },
    {
      "cell_type": "code",
      "source": [
        "multi_ai_agent.print_response(\"Summarize analyst recommendation and share the lastest news NVDA\", stream=True)\n"
      ],
      "metadata": {
        "colab": {
          "base_uri": "https://localhost:8080/",
          "height": 859,
          "referenced_widgets": [
            "83312b79ae7a4720ad845dae96e05a9e",
            "7b423d1aff2b4dfcad9f0f28cdd2c414"
          ]
        },
        "id": "q2A36LYKE6Mm",
        "outputId": "a4f8fce0-8769-439f-f816-f3c2d717d4b6"
      },
      "execution_count": 46,
      "outputs": [
        {
          "output_type": "display_data",
          "data": {
            "text/plain": [
              "Output()"
            ],
            "application/vnd.jupyter.widget-view+json": {
              "version_major": 2,
              "version_minor": 0,
              "model_id": "83312b79ae7a4720ad845dae96e05a9e"
            }
          },
          "metadata": {}
        },
        {
          "output_type": "display_data",
          "data": {
            "text/plain": [],
            "text/html": [
              "<pre style=\"white-space:pre;overflow-x:auto;line-height:normal;font-family:Menlo,'DejaVu Sans Mono',consolas,'Courier New',monospace\"></pre>\n"
            ]
          },
          "metadata": {}
        }
      ]
    },
    {
      "cell_type": "code",
      "source": [
        "print(\"OPENAI_API_KEY:\", os.getenv(\"OPENAI_API_KEY\"))\n",
        "print(\"GROQ_API_KEY:\", os.getenv(\"GROQ_API_KEY\"))\n",
        "print(\"AGNO_API_KEY:\", os.getenv(\"PHI_API_KEY\"))"
      ],
      "metadata": {
        "colab": {
          "base_uri": "https://localhost:8080/",
          "height": 180
        },
        "id": "IKbxeNHYUu9G",
        "outputId": "e91fedd9-0493-419d-b255-4b1017a74bc8"
      },
      "execution_count": 1,
      "outputs": [
        {
          "output_type": "error",
          "ename": "NameError",
          "evalue": "name 'os' is not defined",
          "traceback": [
            "\u001b[0;31m---------------------------------------------------------------------------\u001b[0m",
            "\u001b[0;31mNameError\u001b[0m                                 Traceback (most recent call last)",
            "\u001b[0;32m<ipython-input-1-354f2a48675e>\u001b[0m in \u001b[0;36m<cell line: 0>\u001b[0;34m()\u001b[0m\n\u001b[0;32m----> 1\u001b[0;31m \u001b[0mprint\u001b[0m\u001b[0;34m(\u001b[0m\u001b[0;34m\"OPENAI_API_KEY:\"\u001b[0m\u001b[0;34m,\u001b[0m \u001b[0mos\u001b[0m\u001b[0;34m.\u001b[0m\u001b[0mgetenv\u001b[0m\u001b[0;34m(\u001b[0m\u001b[0;34m\"OPENAI_API_KEY\"\u001b[0m\u001b[0;34m)\u001b[0m\u001b[0;34m)\u001b[0m\u001b[0;34m\u001b[0m\u001b[0;34m\u001b[0m\u001b[0m\n\u001b[0m\u001b[1;32m      2\u001b[0m \u001b[0mprint\u001b[0m\u001b[0;34m(\u001b[0m\u001b[0;34m\"GROQ_API_KEY:\"\u001b[0m\u001b[0;34m,\u001b[0m \u001b[0mos\u001b[0m\u001b[0;34m.\u001b[0m\u001b[0mgetenv\u001b[0m\u001b[0;34m(\u001b[0m\u001b[0;34m\"GROQ_API_KEY\"\u001b[0m\u001b[0;34m)\u001b[0m\u001b[0;34m)\u001b[0m\u001b[0;34m\u001b[0m\u001b[0;34m\u001b[0m\u001b[0m\n\u001b[1;32m      3\u001b[0m \u001b[0mprint\u001b[0m\u001b[0;34m(\u001b[0m\u001b[0;34m\"AGNO_API_KEY:\"\u001b[0m\u001b[0;34m,\u001b[0m \u001b[0mos\u001b[0m\u001b[0;34m.\u001b[0m\u001b[0mgetenv\u001b[0m\u001b[0;34m(\u001b[0m\u001b[0;34m\"PHI_API_KEY\"\u001b[0m\u001b[0;34m)\u001b[0m\u001b[0;34m)\u001b[0m\u001b[0;34m\u001b[0m\u001b[0;34m\u001b[0m\u001b[0m\n",
            "\u001b[0;31mNameError\u001b[0m: name 'os' is not defined"
          ]
        }
      ]
    },
    {
      "cell_type": "code",
      "source": [
        "print(\"Initializing Playground with agents:\", [web_search_agent, finance_agent])\n"
      ],
      "metadata": {
        "colab": {
          "base_uri": "https://localhost:8080/"
        },
        "id": "XT3iTJkVUzp2",
        "outputId": "450c971e-ffc9-4e83-b4c3-1cd79dd7eccb"
      },
      "execution_count": 39,
      "outputs": [
        {
          "output_type": "stream",
          "name": "stdout",
          "text": [
            "Initializing Playground with agents: [Agent(model=Groq(id='llama-3.3-70b-versatile', name='Groq', provider='Groq', response_format=None, structured_outputs=False, supports_structured_outputs=False, tool_choice=None, show_tool_calls=None, tool_call_limit=None, _tools=None, _functions=None, _function_call_stack=None, system_prompt=None, instructions=None, tool_message_role='tool', assistant_message_role='assistant', frequency_penalty=None, logit_bias=None, logprobs=None, max_tokens=None, presence_penalty=None, seed=None, stop=None, temperature=None, top_logprobs=None, top_p=None, user=None, extra_headers=None, extra_query=None, request_params=None, api_key=None, base_url=None, timeout=None, max_retries=None, default_headers=None, default_query=None, http_client=None, client_params=None, client=None, async_client=None), name='Web Search Agent', agent_id=None, introduction=None, user_id=None, session_id=None, session_name=None, session_state=None, context=None, add_context=False, resolve_context=True, memory=None, add_history_to_messages=False, num_history_responses=3, knowledge=None, add_references=False, retriever=None, references_format='json', storage=None, extra_data=None, tools=[<DuckDuckGoTools name=duckduckgo functions=['duckduckgo_search', 'duckduckgo_news']>], show_tool_calls=True, tool_call_limit=None, tool_choice=None, reasoning=False, reasoning_model=None, reasoning_agent=None, reasoning_min_steps=1, reasoning_max_steps=10, read_chat_history=False, search_knowledge=True, update_knowledge=False, read_tool_call_history=False, system_message=None, system_message_role='system', create_default_system_message=True, description=None, goal=None, instructions=['Always include sources'], expected_output=None, additional_context=None, markdown=True, add_name_to_instructions=False, add_datetime_to_instructions=False, add_state_in_messages=False, add_messages=None, user_message=None, user_message_role='user', create_default_user_message=True, retries=0, delay_between_retries=1, exponential_backoff=False, response_model=None, parse_response=True, structured_outputs=False, save_response_to_file=None, stream=None, stream_intermediate_steps=False, team=None, team_data=None, role='Search the web for the information', respond_directly=False, add_transfer_instructions=True, team_response_separator='\\n', debug_mode=False, monitoring=False, telemetry=True), Agent(model=Groq(id='llama-3.3-70b-versatile', name='Groq', provider='Groq', response_format=None, structured_outputs=False, supports_structured_outputs=False, tool_choice=None, show_tool_calls=None, tool_call_limit=None, _tools=None, _functions=None, _function_call_stack=None, system_prompt=None, instructions=None, tool_message_role='tool', assistant_message_role='assistant', frequency_penalty=None, logit_bias=None, logprobs=None, max_tokens=None, presence_penalty=None, seed=None, stop=None, temperature=None, top_logprobs=None, top_p=None, user=None, extra_headers=None, extra_query=None, request_params=None, api_key=None, base_url=None, timeout=None, max_retries=None, default_headers=None, default_query=None, http_client=None, client_params=None, client=None, async_client=None), name='Finance AI Agent', agent_id=None, introduction=None, user_id=None, session_id=None, session_name=None, session_state=None, context=None, add_context=False, resolve_context=True, memory=None, add_history_to_messages=False, num_history_responses=3, knowledge=None, add_references=False, retriever=None, references_format='json', storage=None, extra_data=None, tools=[<YFinanceTools name=yfinance_tools functions=['get_current_stock_price', 'get_company_info', 'get_stock_fundamentals', 'get_analyst_recommendations', 'get_technical_indicators', 'get_historical_stock_prices']>], show_tool_calls=True, tool_call_limit=None, tool_choice=None, reasoning=False, reasoning_model=None, reasoning_agent=None, reasoning_min_steps=1, reasoning_max_steps=10, read_chat_history=False, search_knowledge=True, update_knowledge=False, read_tool_call_history=False, system_message=None, system_message_role='system', create_default_system_message=True, description='You are an investment analyst that researches stock prices, analyst recommendations, and stock fundamentals.', goal=None, instructions=['Format your response using markdown and use tables to display data where possible.'], expected_output=None, additional_context=None, markdown=True, add_name_to_instructions=False, add_datetime_to_instructions=False, add_state_in_messages=False, add_messages=None, user_message=None, user_message_role='user', create_default_user_message=True, retries=0, delay_between_retries=1, exponential_backoff=False, response_model=None, parse_response=True, structured_outputs=False, save_response_to_file=None, stream=None, stream_intermediate_steps=False, team=None, team_data=None, role=None, respond_directly=False, add_transfer_instructions=True, team_response_separator='\\n', debug_mode=False, monitoring=False, telemetry=True)]\n"
          ]
        }
      ]
    },
    {
      "cell_type": "code",
      "source": [
        "serve_playground_app(\"playground:app\", reload=True)"
      ],
      "metadata": {
        "colab": {
          "base_uri": "https://localhost:8080/",
          "height": 230
        },
        "id": "h5Jmns3ZJz4e",
        "outputId": "ca3c42e8-6f98-40c1-fb5d-0b5f1c0467b8"
      },
      "execution_count": 24,
      "outputs": [
        {
          "output_type": "display_data",
          "data": {
            "text/plain": [
              "\u001b[34mINFO    \u001b[0m Starting playground on \u001b[4;94mhttp://localhost:7777\u001b[0m                                                              \n"
            ],
            "text/html": [
              "<pre style=\"white-space:pre;overflow-x:auto;line-height:normal;font-family:Menlo,'DejaVu Sans Mono',consolas,'Courier New',monospace\"><span style=\"color: #000080; text-decoration-color: #000080\">INFO    </span> Starting playground on <span style=\"color: #0000ff; text-decoration-color: #0000ff; text-decoration: underline\">http://localhost:7777</span>                                                              \n",
              "</pre>\n"
            ]
          },
          "metadata": {}
        },
        {
          "output_type": "stream",
          "name": "stdout",
          "text": [
            "┏━━━━━━━━━━━━━━━━━━━━━━━━━━━━━ Agent Playground ━━━━━━━━━━━━━━━━━━━━━━━━━━━━━━┓\n",
            "┃                                                                             ┃\n",
            "┃                                                                             ┃\n",
            "┃  Playground URL: https://app.agno.com/playground?endpoint=localhost%3A7777  ┃\n",
            "┃                                                                             ┃\n",
            "┃                                                                             ┃\n",
            "┗━━━━━━━━━━━━━━━━━━━━━━━━━━━━━━━━━━━━━━━━━━━━━━━━━━━━━━━━━━━━━━━━━━━━━━━━━━━━━┛\n"
          ]
        },
        {
          "output_type": "stream",
          "name": "stderr",
          "text": [
            "INFO:     Will watch for changes in these directories: ['/content']\n",
            "INFO:     Uvicorn running on http://localhost:7777 (Press CTRL+C to quit)\n",
            "INFO:     Started reloader process [722] using StatReload\n",
            "INFO:     Stopping reloader process [722]\n"
          ]
        }
      ]
    },
    {
      "cell_type": "code",
      "source": [],
      "metadata": {
        "id": "FlGORlYjKLfL"
      },
      "execution_count": null,
      "outputs": []
    }
  ]
}